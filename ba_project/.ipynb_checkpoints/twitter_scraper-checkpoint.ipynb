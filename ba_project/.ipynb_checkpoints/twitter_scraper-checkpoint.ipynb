{
 "cells": [
  {
   "cell_type": "code",
   "execution_count": 1,
   "metadata": {},
   "outputs": [],
   "source": [
    "import GetOldTweets3 as got\n",
    "import pandas as pd"
   ]
  },
  {
   "cell_type": "code",
   "execution_count": 12,
   "metadata": {},
   "outputs": [],
   "source": [
    "def get_tweets(query, top_only, start_date, end_date, max_tweets):\n",
    "   \n",
    "    # specifying tweet search criteria \n",
    "    tweetCriteria = got.manager.TweetCriteria().setQuerySearch(query)\\\n",
    "                                                .setTopTweets(top_only)\\\n",
    "                                                .setSince(start_date)\\\n",
    "                                                .setUntil(end_date)\\\n",
    "                                                .setMaxTweets(max_tweets)\n",
    "    \n",
    "    # scraping tweets based on criteria\n",
    "    tweet = got.manager.TweetManager.getTweets(tweetCriteria)\n",
    "    \n",
    "    # creating list of tweets with the tweet attributes \n",
    "    # specified in the list comprehension\n",
    "    text_tweets = [[tw.text,\n",
    "                    tw.date,\n",
    "                    tw.retweets,\n",
    "                    tw.favorites,\n",
    "                    tw.mentions,\n",
    "                    tw.hashtags] for tw in tweet]\n",
    "    \n",
    "    # creating dataframe, assigning column names to list of\n",
    "    # tweets corresponding to tweet attributes\n",
    "    tweets_df = pd.DataFrame(text_tweets, \n",
    "                            columns = ['Text','Date','Retweets','Favorites','Mentions','HashTags'])\n",
    "    \n",
    "    return tweets_df"
   ]
  },
  {
   "cell_type": "code",
   "execution_count": 15,
   "metadata": {},
   "outputs": [],
   "source": [
    "# only including top tweets, \n",
    "# looking at the past week with the end_date not inclusive,\n",
    "# and specifying that we want a max number of tweets = 100.\n",
    "# also sorting the tweets by date, descending.\n",
    "\n",
    "# Case insensitive\n",
    "query = \"lockdown\"\n",
    "\n",
    "tweets_df = get_tweets(query,\n",
    "                     top_only = True,\n",
    "                     start_date = \"2020-04-07\", \n",
    "                     end_date = \"2020-04-14\",\n",
    "                    max_tweets = 20)\n",
    "tweets_df.head()\n",
    "tweets_df.to_csv(\"tweets_df.csv\")"
   ]
  }
 ],
 "metadata": {
  "kernelspec": {
   "display_name": "Python 3",
   "language": "python",
   "name": "python3"
  },
  "language_info": {
   "codemirror_mode": {
    "name": "ipython",
    "version": 3
   },
   "file_extension": ".py",
   "mimetype": "text/x-python",
   "name": "python",
   "nbconvert_exporter": "python",
   "pygments_lexer": "ipython3",
   "version": "3.8.2"
  }
 },
 "nbformat": 4,
 "nbformat_minor": 4
}
