{
 "cells": [
  {
   "cell_type": "code",
   "execution_count": 30,
   "metadata": {},
   "outputs": [],
   "source": [
    "import GetOldTweets3 as got\n",
    "import pandas as pd\n",
    "import itertools\n",
    "import datetime\n",
    "import time"
   ]
  },
  {
   "cell_type": "markdown",
   "metadata": {},
   "source": [
    "## Custom functions"
   ]
  },
  {
   "cell_type": "code",
   "execution_count": 98,
   "metadata": {},
   "outputs": [],
   "source": [
    "def time_print(time_secs):\n",
    "    d = datetime.datetime(1,1,1) + datetime.timedelta(seconds = time_secs)\n",
    "    date_str = \"{}{}{}{}\".format(str(d.day-1)+\" days, \" if d.day>1 else \"\",\n",
    "                                str(d.hour)+\" hours, \" if d.hour>0 else \"\",\n",
    "                                str(d.minute)+\" min, \" if d.minute>0 else \"\",\n",
    "                                str(d.second)+\" secs\")\n",
    "    return date_str\n",
    "\n",
    "def keywords_prep_sent(activity_words,product_words,n):\n",
    "    with open('sentiment_words.txt', 'w') as f:\n",
    "        for item in activity_words:\n",
    "            f.write(\"%s\\n\" % item)\n",
    "        for item in product_words:\n",
    "            f.write(\"%s\\n\" % item)\n",
    "    '''\n",
    "    # Only used with the product frequency part\n",
    "    with open('activity_words.txt', 'w') as f:\n",
    "        for item in activity_words:\n",
    "            f.write(\"%s\\n\" % item)\n",
    "\n",
    "    with open('product_words.txt', 'w') as f:\n",
    "        for item in product_words:\n",
    "            f.write(\"%s\\n\" % item)\n",
    "    '''     \n",
    "    # Behavior words are all permutations of activity and product words\n",
    "    bwords = list(map(\" \".join, itertools.product(activity_words,product_words)))\n",
    "\n",
    "    print(\"Number of activity words: {}\".format(len(activity_words)))\n",
    "    print(\"Number of product words: {}\".format(len(product_words)))\n",
    "    print(\"Number of permutations: {}\".format(len(bwords)))\n",
    "    print(\"Number of rows to be pulled: {}\".format(len(bwords)*n) \n",
    "          if n>0\n",
    "          else \"All possible tweets for each keyword will be pulled\")\n",
    "    return bwords\n",
    "\n",
    "def keywords_prep_beha(behaviour_list,n):\n",
    "    with open('behaviour_words.txt', 'w') as f:\n",
    "        for item in behaviour_list:\n",
    "            for i in item:\n",
    "                f.write(\"%s\\n\" % i)\n",
    "\n",
    "    bwords = []\n",
    "    for item in behaviour_list:\n",
    "        activity = item.pop(0)\n",
    "        for i in item:\n",
    "            bwords.append(activity + \" \" + i)\n",
    "\n",
    "    print(\"Number of permutations: {}\".format(len(bwords)))\n",
    "    print(\"Number of rows to be pulled: {}\".format(len(bwords)*n) \n",
    "          if n>0\n",
    "          else \"All possible tweets for each keyword will be pulled\")\n",
    "    return bwords"
   ]
  },
  {
   "cell_type": "markdown",
   "metadata": {},
   "source": [
    "## GetOldTweets3 enabler function"
   ]
  },
  {
   "cell_type": "code",
   "execution_count": 32,
   "metadata": {},
   "outputs": [],
   "source": [
    "def get_tweets(query, top_only, start_date, end_date, max_tweets):\n",
    "   \n",
    "    # specifying tweet search criteria\n",
    "    tweetCriteria = got.manager.TweetCriteria().setQuerySearch(query)\\\n",
    "                                                .setTopTweets(top_only)\\\n",
    "                                                .setSince(start_date)\\\n",
    "                                                .setUntil(end_date)\\\n",
    "                                                .setMaxTweets(max_tweets)\n",
    "    \n",
    "    # scraping tweets based on criteria\n",
    "    tweet = got.manager.TweetManager.getTweets(tweetCriteria)\n",
    "    \n",
    "    # creating list of tweets with the tweet attributes specified in the list comprehension\n",
    "    text_tweets = [[tw.text,\n",
    "                    tw.date,\n",
    "                    tw.retweets,\n",
    "                    tw.favorites,\n",
    "                    tw.mentions,\n",
    "                    tw.hashtags] for tw in tweet]\n",
    "    \n",
    "    # creating dataframe, assigning column names to list of tweets corresponding to tweet attributes\n",
    "    tweets_df = pd.DataFrame(text_tweets, \n",
    "                            columns = ['Text','Date','Retweets','Favorites','Mentions','HashTags'])\n",
    "    \n",
    "    return tweets_df"
   ]
  },
  {
   "cell_type": "markdown",
   "metadata": {},
   "source": [
    "## Scraper function for custom words"
   ]
  },
  {
   "cell_type": "code",
   "execution_count": 74,
   "metadata": {},
   "outputs": [],
   "source": [
    "def custom_scraper(behaviour_words,fixedk,limit_keyword):\n",
    "    tweets_temp = pd.DataFrame(columns = ['Text','Date','Retweets','Favorites','Mentions','HashTags'])\n",
    "    total_loop_time = 0\n",
    "    avg_loop_time = 0\n",
    "    len_behaviour_words = len(behaviour_words)\n",
    "    for i,word in enumerate(behaviour_words):\n",
    "        start = time.time()\n",
    "\n",
    "        custom_query = \" \".join(fixedk)+\" \"+word\n",
    "        tweet_out = get_tweets(custom_query,\n",
    "                                top_only = False,\n",
    "                                start_date = \"2020-04-01\",\n",
    "                                end_date = \"2020-08-01\",\n",
    "                                max_tweets = limit_keyword)\n",
    "        tweets_temp = tweets_temp.append(tweet_out, ignore_index=True)\n",
    "\n",
    "        end = time.time()\n",
    "        total_loop_time += end-start\n",
    "        avg_loop_time = total_loop_time/(i+1)\n",
    "        time_left = (avg_loop_time) * (len_behaviour_words-i)\n",
    "\n",
    "        out1 = \"{} in {}: Query \\\"{}\\\" ({:.2f} secs) (Rows: {})\".format(i,len_behaviour_words,custom_query,\n",
    "                                                                        (end-start),len(tweet_out))\n",
    "        out2 = \"ETA: {}\".format(time_print(time_left))\n",
    "        print(\"{:<80s}{:<35s}\".format(out1,out2))\n",
    "\n",
    "    print(\"\\nTotal query time: {}\".format(time_print(total_loop_time)))\n",
    "    return tweets_temp"
   ]
  },
  {
   "cell_type": "markdown",
   "metadata": {},
   "source": [
    "##  Basic scrape code (not in use)"
   ]
  },
  {
   "cell_type": "code",
   "execution_count": null,
   "metadata": {
    "scrolled": false
   },
   "outputs": [],
   "source": [
    "# Between a specific range of dates, with end date not inclusive\n",
    "# And specifying that we want a max number of tweets in max_tweets.\n",
    "\n",
    "# The main query word goes here, case insensitive\n",
    "query = \"lockdown\"\n",
    "tweets_df = get_tweets(query,\n",
    "                        top_only = False,\n",
    "                        start_date = \"2020-04-01\",\n",
    "                        end_date = \"2020-08-01\",\n",
    "                        max_tweets = 100000)\n",
    "tweets_df.head(5)"
   ]
  },
  {
   "cell_type": "markdown",
   "metadata": {},
   "source": [
    "## Pulling for Part 1 - Sentiment analysis"
   ]
  },
  {
   "cell_type": "code",
   "execution_count": 102,
   "metadata": {
    "scrolled": true
   },
   "outputs": [
    {
     "name": "stdout",
     "output_type": "stream",
     "text": [
      "Number of activity words: 10\n",
      "Number of product words: 12\n",
      "Number of permutations: 120\n",
      "All possible tweets for each keyword will be pulled\n"
     ]
    },
    {
     "data": {
      "text/plain": [
       "['bought iphone',\n",
       " 'bought samsung galaxy',\n",
       " 'bought nokia',\n",
       " 'bought redmi',\n",
       " 'bought xiaomi']"
      ]
     },
     "execution_count": 102,
     "metadata": {},
     "output_type": "execute_result"
    }
   ],
   "source": [
    "activity_words = [\"bought\",\"purchased\",\"thinking of\",\"looking for\",\n",
    "\"thinking about\",\"want to buy\",\"recommend\",\"suggest\",\"think of\",\"ordered\"]\n",
    "\n",
    "product_words = [\"iphone\",\"samsung galaxy\",\"nokia\",\"redmi\",\"xiaomi\",\n",
    "                \"oppo\",\"realme\",\"vivo\",\"oneplus\",\"huawei\",\"honor\",\"motorola\"]\n",
    "\n",
    "# Tweets for each behaviour words, <1 means all possible tweets\n",
    "tweets_per_keyword = 0\n",
    "\n",
    "sentiment_words = keywords_prep_sent(activity_words,product_words,tweets_per_keyword)\n",
    "sentiment_words[:5]"
   ]
  },
  {
   "cell_type": "code",
   "execution_count": 107,
   "metadata": {
    "scrolled": true
   },
   "outputs": [
    {
     "name": "stdout",
     "output_type": "stream",
     "text": [
      "0 in 120: Query \"lockdown bought iphone\" (16.75 secs) (Rows: 125)               ETA: 33 min, 30 secs               \n",
      "1 in 120: Query \"lockdown bought samsung galaxy\" (3.39 secs) (Rows: 8)          ETA: 19 min, 58 secs               \n",
      "2 in 120: Query \"lockdown bought nokia\" (4.60 secs) (Rows: 17)                  ETA: 16 min, 12 secs               \n",
      "3 in 120: Query \"lockdown bought redmi\" (5.02 secs) (Rows: 24)                  ETA: 14 min, 30 secs               \n",
      "4 in 120: Query \"lockdown bought xiaomi\" (3.17 secs) (Rows: 19)                 ETA: 12 min, 43 secs               \n",
      "5 in 120: Query \"lockdown bought oppo\" (3.24 secs) (Rows: 6)                    ETA: 11 min, 33 secs               \n",
      "6 in 120: Query \"lockdown bought realme\" (6.38 secs) (Rows: 32)                 ETA: 11 min, 32 secs               \n",
      "7 in 120: Query \"lockdown bought vivo\" (2.85 secs) (Rows: 8)                    ETA: 10 min, 41 secs               \n",
      "8 in 120: Query \"lockdown bought oneplus\" (6.20 secs) (Rows: 40)                ETA: 10 min, 42 secs               \n",
      "9 in 120: Query \"lockdown bought huawei\" (2.56 secs) (Rows: 6)                  ETA: 10 min, 1 secs                \n",
      "10 in 120: Query \"lockdown bought honor\" (2.89 secs) (Rows: 7)                  ETA: 9 min, 30 secs                \n",
      "11 in 120: Query \"lockdown bought motorola\" (1.34 secs) (Rows: 0)               ETA: 8 min, 50 secs                \n",
      "12 in 120: Query \"lockdown purchased iphone\" (8.74 secs) (Rows: 57)             ETA: 9 min, 17 secs                \n",
      "13 in 120: Query \"lockdown purchased samsung galaxy\" (3.34 secs) (Rows: 10)     ETA: 8 min, 58 secs                \n",
      "14 in 120: Query \"lockdown purchased nokia\" (4.96 secs) (Rows: 21)              ETA: 8 min, 52 secs                \n",
      "15 in 120: Query \"lockdown purchased redmi\" (5.13 secs) (Rows: 31)              ETA: 8 min, 48 secs                \n",
      "16 in 120: Query \"lockdown purchased xiaomi\" (3.80 secs) (Rows: 19)             ETA: 8 min, 35 secs                \n",
      "17 in 120: Query \"lockdown purchased oppo\" (3.58 secs) (Rows: 9)                ETA: 8 min, 23 secs                \n",
      "18 in 120: Query \"lockdown purchased realme\" (7.58 secs) (Rows: 50)             ETA: 8 min, 32 secs                \n",
      "19 in 120: Query \"lockdown purchased vivo\" (3.18 secs) (Rows: 13)               ETA: 8 min, 18 secs                \n",
      "20 in 120: Query \"lockdown purchased oneplus\" (7.07 secs) (Rows: 44)            ETA: 8 min, 23 secs                \n",
      "21 in 120: Query \"lockdown purchased huawei\" (2.56 secs) (Rows: 1)              ETA: 8 min, 7 secs                 \n",
      "22 in 120: Query \"lockdown purchased honor\" (2.56 secs) (Rows: 4)               ETA: 7 min, 52 secs                \n",
      "23 in 120: Query \"lockdown purchased motorola\" (2.18 secs) (Rows: 1)            ETA: 7 min, 36 secs                \n",
      "24 in 120: Query \"lockdown thinking of iphone\" (3.35 secs) (Rows: 12)           ETA: 7 min, 26 secs                \n",
      "25 in 120: Query \"lockdown thinking of samsung galaxy\" (2.15 secs) (Rows: 1)    ETA: 7 min, 13 secs                \n",
      "26 in 120: Query \"lockdown thinking of nokia\" (2.25 secs) (Rows: 2)             ETA: 7 min, 0 secs                 \n",
      "27 in 120: Query \"lockdown thinking of redmi\" (1.23 secs) (Rows: 0)             ETA: 6 min, 45 secs                \n",
      "28 in 120: Query \"lockdown thinking of xiaomi\" (2.55 secs) (Rows: 3)            ETA: 6 min, 35 secs                \n",
      "29 in 120: Query \"lockdown thinking of oppo\" (2.69 secs) (Rows: 4)              ETA: 6 min, 26 secs                \n",
      "30 in 120: Query \"lockdown thinking of realme\" (2.74 secs) (Rows: 6)            ETA: 6 min, 17 secs                \n",
      "31 in 120: Query \"lockdown thinking of vivo\" (2.87 secs) (Rows: 4)              ETA: 6 min, 9 secs                 \n",
      "32 in 120: Query \"lockdown thinking of oneplus\" (3.27 secs) (Rows: 7)           ETA: 6 min, 3 secs                 \n",
      "33 in 120: Query \"lockdown thinking of huawei\" (2.56 secs) (Rows: 2)            ETA: 5 min, 54 secs                \n",
      "34 in 120: Query \"lockdown thinking of honor\" (2.56 secs) (Rows: 2)             ETA: 5 min, 47 secs                \n",
      "35 in 120: Query \"lockdown thinking of motorola\" (1.23 secs) (Rows: 0)          ETA: 5 min, 36 secs                \n",
      "36 in 120: Query \"lockdown looking for iphone\" (9.32 secs) (Rows: 61)           ETA: 5 min, 44 secs                \n",
      "37 in 120: Query \"lockdown looking for samsung galaxy\" (0.92 secs) (Rows: 0)    ETA: 5 min, 33 secs                \n",
      "38 in 120: Query \"lockdown looking for nokia\" (2.56 secs) (Rows: 3)             ETA: 5 min, 26 secs                \n",
      "39 in 120: Query \"lockdown looking for redmi\" (2.87 secs) (Rows: 3)             ETA: 5 min, 20 secs                \n",
      "40 in 120: Query \"lockdown looking for xiaomi\" (2.56 secs) (Rows: 1)            ETA: 5 min, 13 secs                \n",
      "41 in 120: Query \"lockdown looking for oppo\" (2.56 secs) (Rows: 4)              ETA: 5 min, 7 secs                 \n",
      "42 in 120: Query \"lockdown looking for realme\" (2.87 secs) (Rows: 3)            ETA: 5 min, 1 secs                 \n",
      "43 in 120: Query \"lockdown looking for vivo\" (3.08 secs) (Rows: 2)              ETA: 4 min, 56 secs                \n",
      "44 in 120: Query \"lockdown looking for oneplus\" (3.38 secs) (Rows: 8)           ETA: 4 min, 51 secs                \n",
      "45 in 120: Query \"lockdown looking for huawei\" (2.97 secs) (Rows: 4)            ETA: 4 min, 46 secs                \n",
      "46 in 120: Query \"lockdown looking for honor\" (1.84 secs) (Rows: 0)             ETA: 4 min, 39 secs                \n",
      "47 in 120: Query \"lockdown looking for motorola\" (2.05 secs) (Rows: 0)          ETA: 4 min, 32 secs                \n",
      "48 in 120: Query \"lockdown thinking about iphone\" (2.77 secs) (Rows: 7)         ETA: 4 min, 27 secs                \n",
      "49 in 120: Query \"lockdown thinking about samsung galaxy\" (1.23 secs) (Rows: 0) ETA: 4 min, 20 secs                \n",
      "50 in 120: Query \"lockdown thinking about nokia\" (2.25 secs) (Rows: 1)          ETA: 4 min, 14 secs                \n",
      "51 in 120: Query \"lockdown thinking about redmi\" (1.33 secs) (Rows: 0)          ETA: 4 min, 8 secs                 \n",
      "52 in 120: Query \"lockdown thinking about xiaomi\" (2.56 secs) (Rows: 3)         ETA: 4 min, 3 secs                 \n",
      "53 in 120: Query \"lockdown thinking about oppo\" (2.56 secs) (Rows: 2)           ETA: 3 min, 58 secs                \n",
      "54 in 120: Query \"lockdown thinking about realme\" (2.15 secs) (Rows: 3)         ETA: 3 min, 53 secs                \n",
      "55 in 120: Query \"lockdown thinking about vivo\" (2.56 secs) (Rows: 1)           ETA: 3 min, 48 secs                \n",
      "56 in 120: Query \"lockdown thinking about oneplus\" (1.43 secs) (Rows: 0)        ETA: 3 min, 42 secs                \n",
      "57 in 120: Query \"lockdown thinking about huawei\" (1.12 secs) (Rows: 0)         ETA: 3 min, 36 secs                \n",
      "58 in 120: Query \"lockdown thinking about honor\" (2.26 secs) (Rows: 3)          ETA: 3 min, 31 secs                \n",
      "59 in 120: Query \"lockdown thinking about motorola\" (1.33 secs) (Rows: 0)       ETA: 3 min, 26 secs                \n",
      "60 in 120: Query \"lockdown want to buy iphone\" (3.48 secs) (Rows: 19)           ETA: 3 min, 23 secs                \n",
      "61 in 120: Query \"lockdown want to buy samsung galaxy\" (2.25 secs) (Rows: 1)    ETA: 3 min, 18 secs                \n",
      "62 in 120: Query \"lockdown want to buy nokia\" (1.05 secs) (Rows: 0)             ETA: 3 min, 13 secs                \n",
      "63 in 120: Query \"lockdown want to buy redmi\" (2.84 secs) (Rows: 5)             ETA: 3 min, 9 secs                 \n",
      "64 in 120: Query \"lockdown want to buy xiaomi\" (2.66 secs) (Rows: 1)            ETA: 3 min, 5 secs                 \n",
      "65 in 120: Query \"lockdown want to buy oppo\" (1.13 secs) (Rows: 0)              ETA: 3 min, 0 secs                 \n",
      "66 in 120: Query \"lockdown want to buy realme\" (3.18 secs) (Rows: 19)           ETA: 2 min, 57 secs                \n",
      "67 in 120: Query \"lockdown want to buy vivo\" (1.43 secs) (Rows: 0)              ETA: 2 min, 52 secs                \n",
      "68 in 120: Query \"lockdown want to buy oneplus\" (5.02 secs) (Rows: 27)          ETA: 2 min, 50 secs                \n",
      "69 in 120: Query \"lockdown want to buy huawei\" (2.56 secs) (Rows: 4)            ETA: 2 min, 46 secs                \n",
      "70 in 120: Query \"lockdown want to buy honor\" (2.56 secs) (Rows: 3)             ETA: 2 min, 42 secs                \n"
     ]
    },
    {
     "name": "stdout",
     "output_type": "stream",
     "text": [
      "71 in 120: Query \"lockdown want to buy motorola\" (1.23 secs) (Rows: 0)          ETA: 2 min, 38 secs                \n",
      "72 in 120: Query \"lockdown recommend iphone\" (2.87 secs) (Rows: 6)              ETA: 2 min, 34 secs                \n",
      "73 in 120: Query \"lockdown recommend samsung galaxy\" (1.03 secs) (Rows: 0)      ETA: 2 min, 30 secs                \n",
      "74 in 120: Query \"lockdown recommend nokia\" (2.76 secs) (Rows: 3)               ETA: 2 min, 26 secs                \n",
      "75 in 120: Query \"lockdown recommend redmi\" (1.02 secs) (Rows: 0)               ETA: 2 min, 22 secs                \n",
      "76 in 120: Query \"lockdown recommend xiaomi\" (1.43 secs) (Rows: 0)              ETA: 2 min, 18 secs                \n",
      "77 in 120: Query \"lockdown recommend oppo\" (3.07 secs) (Rows: 4)                ETA: 2 min, 14 secs                \n",
      "78 in 120: Query \"lockdown recommend realme\" (2.87 secs) (Rows: 2)              ETA: 2 min, 11 secs                \n",
      "79 in 120: Query \"lockdown recommend vivo\" (1.42 secs) (Rows: 0)                ETA: 2 min, 7 secs                 \n",
      "80 in 120: Query \"lockdown recommend oneplus\" (3.06 secs) (Rows: 5)             ETA: 2 min, 4 secs                 \n",
      "81 in 120: Query \"lockdown recommend huawei\" (2.56 secs) (Rows: 3)              ETA: 2 min, 1 secs                 \n",
      "82 in 120: Query \"lockdown recommend honor\" (2.87 secs) (Rows: 2)               ETA: 1 min, 57 secs                \n",
      "83 in 120: Query \"lockdown recommend motorola\" (1.33 secs) (Rows: 0)            ETA: 1 min, 53 secs                \n",
      "84 in 120: Query \"lockdown suggest iphone\" (3.44 secs) (Rows: 16)               ETA: 1 min, 51 secs                \n",
      "85 in 120: Query \"lockdown suggest samsung galaxy\" (2.59 secs) (Rows: 1)        ETA: 1 min, 47 secs                \n",
      "86 in 120: Query \"lockdown suggest nokia\" (2.56 secs) (Rows: 3)                 ETA: 1 min, 44 secs                \n",
      "87 in 120: Query \"lockdown suggest redmi\" (2.56 secs) (Rows: 3)                 ETA: 1 min, 41 secs                \n",
      "88 in 120: Query \"lockdown suggest xiaomi\" (2.97 secs) (Rows: 2)                ETA: 1 min, 38 secs                \n",
      "89 in 120: Query \"lockdown suggest oppo\" (3.18 secs) (Rows: 5)                  ETA: 1 min, 35 secs                \n",
      "90 in 120: Query \"lockdown suggest realme\" (3.57 secs) (Rows: 13)               ETA: 1 min, 32 secs                \n",
      "91 in 120: Query \"lockdown suggest vivo\" (1.13 secs) (Rows: 0)                  ETA: 1 min, 28 secs                \n",
      "92 in 120: Query \"lockdown suggest oneplus\" (3.75 secs) (Rows: 17)              ETA: 1 min, 25 secs                \n",
      "93 in 120: Query \"lockdown suggest huawei\" (2.39 secs) (Rows: 2)                ETA: 1 min, 22 secs                \n",
      "94 in 120: Query \"lockdown suggest honor\" (2.77 secs) (Rows: 8)                 ETA: 1 min, 19 secs                \n",
      "95 in 120: Query \"lockdown suggest motorola\" (2.34 secs) (Rows: 2)              ETA: 1 min, 16 secs                \n",
      "96 in 120: Query \"lockdown think of iphone\" (7.47 secs) (Rows: 52)              ETA: 1 min, 14 secs                \n",
      "97 in 120: Query \"lockdown think of samsung galaxy\" (2.36 secs) (Rows: 2)       ETA: 1 min, 10 secs                \n",
      "98 in 120: Query \"lockdown think of nokia\" (2.56 secs) (Rows: 5)                ETA: 1 min, 7 secs                 \n",
      "99 in 120: Query \"lockdown think of redmi\" (2.98 secs) (Rows: 2)                ETA: 1 min, 4 secs                 \n",
      "100 in 120: Query \"lockdown think of xiaomi\" (3.28 secs) (Rows: 4)              ETA: 1 min, 1 secs                 \n",
      "101 in 120: Query \"lockdown think of oppo\" (2.75 secs) (Rows: 1)                ETA: 58 secs                       \n",
      "102 in 120: Query \"lockdown think of realme\" (2.87 secs) (Rows: 9)              ETA: 55 secs                       \n",
      "103 in 120: Query \"lockdown think of vivo\" (2.56 secs) (Rows: 3)                ETA: 52 secs                       \n",
      "104 in 120: Query \"lockdown think of oneplus\" (3.48 secs) (Rows: 16)            ETA: 49 secs                       \n",
      "105 in 120: Query \"lockdown think of huawei\" (2.97 secs) (Rows: 9)              ETA: 46 secs                       \n",
      "106 in 120: Query \"lockdown think of honor\" (6.35 secs) (Rows: 24)              ETA: 43 secs                       \n",
      "107 in 120: Query \"lockdown think of motorola\" (6.14 secs) (Rows: 2)            ETA: 40 secs                       \n",
      "108 in 120: Query \"lockdown ordered iphone\" (10.95 secs) (Rows: 18)             ETA: 38 secs                       \n",
      "109 in 120: Query \"lockdown ordered samsung galaxy\" (17.83 secs) (Rows: 6)      ETA: 36 secs                       \n",
      "110 in 120: Query \"lockdown ordered nokia\" (2.28 secs) (Rows: 1)                ETA: 33 secs                       \n",
      "111 in 120: Query \"lockdown ordered redmi\" (2.57 secs) (Rows: 13)               ETA: 29 secs                       \n",
      "112 in 120: Query \"lockdown ordered xiaomi\" (2.78 secs) (Rows: 9)               ETA: 26 secs                       \n",
      "113 in 120: Query \"lockdown ordered oppo\" (2.63 secs) (Rows: 4)                 ETA: 23 secs                       \n",
      "114 in 120: Query \"lockdown ordered realme\" (5.37 secs) (Rows: 33)              ETA: 19 secs                       \n",
      "115 in 120: Query \"lockdown ordered vivo\" (4.23 secs) (Rows: 2)                 ETA: 16 secs                       \n",
      "116 in 120: Query \"lockdown ordered oneplus\" (5.12 secs) (Rows: 25)             ETA: 13 secs                       \n",
      "117 in 120: Query \"lockdown ordered huawei\" (3.69 secs) (Rows: 18)              ETA: 10 secs                       \n",
      "118 in 120: Query \"lockdown ordered honor\" (6.04 secs) (Rows: 6)                ETA: 6 secs                        \n",
      "119 in 120: Query \"lockdown ordered motorola\" (1.02 secs) (Rows: 0)             ETA: 3 secs                        \n",
      "\n",
      "Total query time: 6 min, 42 secs\n"
     ]
    }
   ],
   "source": [
    "fixed_key = [\"lockdown\"]\n",
    "tweets_sentiment = custom_scraper(sentiment_words,fixed_key,tweets_per_keyword)"
   ]
  },
  {
   "cell_type": "code",
   "execution_count": 108,
   "metadata": {
    "scrolled": true
   },
   "outputs": [
    {
     "name": "stdout",
     "output_type": "stream",
     "text": [
      "Number of rows: 1144\n",
      "Number of rows after deleted duplicates: 1002\n"
     ]
    },
    {
     "data": {
      "text/html": [
       "<div>\n",
       "<style scoped>\n",
       "    .dataframe tbody tr th:only-of-type {\n",
       "        vertical-align: middle;\n",
       "    }\n",
       "\n",
       "    .dataframe tbody tr th {\n",
       "        vertical-align: top;\n",
       "    }\n",
       "\n",
       "    .dataframe thead th {\n",
       "        text-align: right;\n",
       "    }\n",
       "</style>\n",
       "<table border=\"1\" class=\"dataframe\">\n",
       "  <thead>\n",
       "    <tr style=\"text-align: right;\">\n",
       "      <th></th>\n",
       "      <th>Text</th>\n",
       "      <th>Date</th>\n",
       "      <th>Retweets</th>\n",
       "      <th>Favorites</th>\n",
       "      <th>Mentions</th>\n",
       "      <th>HashTags</th>\n",
       "    </tr>\n",
       "  </thead>\n",
       "  <tbody>\n",
       "    <tr>\n",
       "      <th>0</th>\n",
       "      <td>@XiaomiIndia @Xiaomi we hve ordered Mi 40\" TV ...</td>\n",
       "      <td>2020-04-01 03:59:59+00:00</td>\n",
       "      <td>0</td>\n",
       "      <td>0</td>\n",
       "      <td>@XiaomiIndia @Xiaomi</td>\n",
       "      <td></td>\n",
       "    </tr>\n",
       "    <tr>\n",
       "      <th>1</th>\n",
       "      <td>@Xiaomi Mi A2 Packed on 2018, July Purchased O...</td>\n",
       "      <td>2020-04-01 06:27:55+00:00</td>\n",
       "      <td>0</td>\n",
       "      <td>0</td>\n",
       "      <td>@Xiaomi</td>\n",
       "      <td></td>\n",
       "    </tr>\n",
       "    <tr>\n",
       "      <th>2</th>\n",
       "      <td>@flipkartsupport recently just before the coun...</td>\n",
       "      <td>2020-04-01 08:17:43+00:00</td>\n",
       "      <td>0</td>\n",
       "      <td>0</td>\n",
       "      <td>@flipkartsupport</td>\n",
       "      <td></td>\n",
       "    </tr>\n",
       "    <tr>\n",
       "      <th>3</th>\n",
       "      <td>#covid19UK I find that a lot of teenagers seem...</td>\n",
       "      <td>2020-04-01 10:26:16+00:00</td>\n",
       "      <td>0</td>\n",
       "      <td>0</td>\n",
       "      <td></td>\n",
       "      <td>#covid19UK</td>\n",
       "    </tr>\n",
       "    <tr>\n",
       "      <th>4</th>\n",
       "      <td>Lockdown making me spend so much money - Just ...</td>\n",
       "      <td>2020-04-01 13:50:51+00:00</td>\n",
       "      <td>0</td>\n",
       "      <td>2</td>\n",
       "      <td></td>\n",
       "      <td></td>\n",
       "    </tr>\n",
       "  </tbody>\n",
       "</table>\n",
       "</div>"
      ],
      "text/plain": [
       "                                                Text  \\\n",
       "0  @XiaomiIndia @Xiaomi we hve ordered Mi 40\" TV ...   \n",
       "1  @Xiaomi Mi A2 Packed on 2018, July Purchased O...   \n",
       "2  @flipkartsupport recently just before the coun...   \n",
       "3  #covid19UK I find that a lot of teenagers seem...   \n",
       "4  Lockdown making me spend so much money - Just ...   \n",
       "\n",
       "                       Date Retweets Favorites              Mentions  \\\n",
       "0 2020-04-01 03:59:59+00:00        0         0  @XiaomiIndia @Xiaomi   \n",
       "1 2020-04-01 06:27:55+00:00        0         0               @Xiaomi   \n",
       "2 2020-04-01 08:17:43+00:00        0         0      @flipkartsupport   \n",
       "3 2020-04-01 10:26:16+00:00        0         0                         \n",
       "4 2020-04-01 13:50:51+00:00        0         2                         \n",
       "\n",
       "     HashTags  \n",
       "0              \n",
       "1              \n",
       "2              \n",
       "3  #covid19UK  \n",
       "4              "
      ]
     },
     "execution_count": 108,
     "metadata": {},
     "output_type": "execute_result"
    }
   ],
   "source": [
    "#Sorting by date\n",
    "tweets_sentiment.sort_values(by=\"Date\", inplace=True, ascending=True)\n",
    "print(\"Number of rows: {}\".format(tweets_sentiment.shape[0]))\n",
    "\n",
    "tweets_sentiment.drop_duplicates(subset=[\"Text\"], inplace=True)\n",
    "tweets_sentiment.reset_index(drop=True, inplace=True)\n",
    "print(\"Number of rows after deleted duplicates: {}\".format(tweets_sentiment.shape[0]))\n",
    "\n",
    "tweets_sentiment.to_csv(\"tweets_sentiment.csv\")\n",
    "tweets_sentiment.head(5)"
   ]
  },
  {
   "cell_type": "markdown",
   "metadata": {},
   "source": [
    "## Pulling for Part 2 - Behaviour analysis"
   ]
  },
  {
   "cell_type": "code",
   "execution_count": 103,
   "metadata": {
    "scrolled": true
   },
   "outputs": [
    {
     "name": "stdout",
     "output_type": "stream",
     "text": [
      "Number of permutations: 9\n",
      "All possible tweets for each keyword will be pulled\n"
     ]
    },
    {
     "data": {
      "text/plain": [
       "['watching netflix',\n",
       " 'watching amazon prime',\n",
       " 'watching hotstar',\n",
       " 'playing video game',\n",
       " 'playing mobile game']"
      ]
     },
     "execution_count": 103,
     "metadata": {},
     "output_type": "execute_result"
    }
   ],
   "source": [
    "behaviour_list = []\n",
    "behaviour_list.append([\"watching\",\"netflix\",\"amazon prime\",\"hotstar\"])\n",
    "behaviour_list.append([\"playing\",\"video game\",\"mobile game\",\"xbox\",\"playstation\"])\n",
    "behaviour_list.append([\"shopping\",\"flipkart\",\"amazon\"])\n",
    "\n",
    "# Tweets for each behaviour keyword, <1 means all possible tweets\n",
    "tweets_per_keyword = 0\n",
    "\n",
    "behaviour_words = keywords_prep_beha(behaviour_list,tweets_per_keyword)\n",
    "behaviour_words[:5]"
   ]
  },
  {
   "cell_type": "code",
   "execution_count": 105,
   "metadata": {
    "scrolled": true
   },
   "outputs": [
    {
     "name": "stdout",
     "output_type": "stream",
     "text": [
      "0 in 9: Query \"lockdown watching netflix\" (394.23 secs) (Rows: 3521)            ETA: 59 min, 8 secs                \n",
      "1 in 9: Query \"lockdown watching amazon prime\" (26.61 secs) (Rows: 213)         ETA: 28 min, 3 secs                \n",
      "2 in 9: Query \"lockdown watching hotstar\" (13.72 secs) (Rows: 109)              ETA: 16 min, 53 secs               \n",
      "3 in 9: Query \"lockdown playing video game\" (108.67 secs) (Rows: 883)           ETA: 13 min, 34 secs               \n",
      "4 in 9: Query \"lockdown playing mobile game\" (4.51 secs) (Rows: 23)             ETA: 9 min, 7 secs                 \n",
      "5 in 9: Query \"lockdown playing xbox\" (41.00 secs) (Rows: 341)                  ETA: 6 min, 32 secs                \n",
      "6 in 9: Query \"lockdown playing playstation\" (21.44 secs) (Rows: 170)           ETA: 4 min, 21 secs                \n",
      "7 in 9: Query \"lockdown shopping flipkart\" (16.23 secs) (Rows: 117)             ETA: 2 min, 36 secs                \n",
      "8 in 9: Query \"lockdown shopping amazon\" (59.92 secs) (Rows: 502)               ETA: 1 min, 16 secs                \n",
      "\n",
      "Total query time: 11 min, 26 secs\n"
     ]
    }
   ],
   "source": [
    "fixed_key = [\"lockdown\"]\n",
    "tweets_behaviour = custom_scraper(behaviour_words,fixed_key,tweets_per_keyword)"
   ]
  },
  {
   "cell_type": "code",
   "execution_count": 106,
   "metadata": {
    "scrolled": true
   },
   "outputs": [
    {
     "name": "stdout",
     "output_type": "stream",
     "text": [
      "Number of rows: 5879\n",
      "Number of rows after deleted duplicates: 5512\n"
     ]
    },
    {
     "data": {
      "text/html": [
       "<div>\n",
       "<style scoped>\n",
       "    .dataframe tbody tr th:only-of-type {\n",
       "        vertical-align: middle;\n",
       "    }\n",
       "\n",
       "    .dataframe tbody tr th {\n",
       "        vertical-align: top;\n",
       "    }\n",
       "\n",
       "    .dataframe thead th {\n",
       "        text-align: right;\n",
       "    }\n",
       "</style>\n",
       "<table border=\"1\" class=\"dataframe\">\n",
       "  <thead>\n",
       "    <tr style=\"text-align: right;\">\n",
       "      <th></th>\n",
       "      <th>Text</th>\n",
       "      <th>Date</th>\n",
       "      <th>Retweets</th>\n",
       "      <th>Favorites</th>\n",
       "      <th>Mentions</th>\n",
       "      <th>HashTags</th>\n",
       "    </tr>\n",
       "  </thead>\n",
       "  <tbody>\n",
       "    <tr>\n",
       "      <th>0</th>\n",
       "      <td>To make this stop, we need a complete lockdown...</td>\n",
       "      <td>2020-04-01 00:17:50+00:00</td>\n",
       "      <td>0</td>\n",
       "      <td>1</td>\n",
       "      <td></td>\n",
       "      <td></td>\n",
       "    </tr>\n",
       "    <tr>\n",
       "      <th>1</th>\n",
       "      <td>Lockdown http://wpsbrittanyp.blogspot.com/2020...</td>\n",
       "      <td>2020-04-01 02:31:54+00:00</td>\n",
       "      <td>0</td>\n",
       "      <td>0</td>\n",
       "      <td></td>\n",
       "      <td></td>\n",
       "    </tr>\n",
       "    <tr>\n",
       "      <th>2</th>\n",
       "      <td>Day 8 of Lockdown: Recommending ‘USS Indianapo...</td>\n",
       "      <td>2020-04-01 02:32:13+00:00</td>\n",
       "      <td>2</td>\n",
       "      <td>8</td>\n",
       "      <td></td>\n",
       "      <td></td>\n",
       "    </tr>\n",
       "    <tr>\n",
       "      <th>3</th>\n",
       "      <td>@netflix @hulu @PrimeVideo yes I'm still watch...</td>\n",
       "      <td>2020-04-01 02:33:29+00:00</td>\n",
       "      <td>0</td>\n",
       "      <td>0</td>\n",
       "      <td>@netflix @hulu @PrimeVideo</td>\n",
       "      <td>#lockdown</td>\n",
       "    </tr>\n",
       "    <tr>\n",
       "      <th>4</th>\n",
       "      <td>could've been at a @dodgers game with a michi ...</td>\n",
       "      <td>2020-04-01 02:57:57+00:00</td>\n",
       "      <td>0</td>\n",
       "      <td>1</td>\n",
       "      <td>@Dodgers</td>\n",
       "      <td></td>\n",
       "    </tr>\n",
       "  </tbody>\n",
       "</table>\n",
       "</div>"
      ],
      "text/plain": [
       "                                                Text  \\\n",
       "0  To make this stop, we need a complete lockdown...   \n",
       "1  Lockdown http://wpsbrittanyp.blogspot.com/2020...   \n",
       "2  Day 8 of Lockdown: Recommending ‘USS Indianapo...   \n",
       "3  @netflix @hulu @PrimeVideo yes I'm still watch...   \n",
       "4  could've been at a @dodgers game with a michi ...   \n",
       "\n",
       "                       Date Retweets Favorites                    Mentions  \\\n",
       "0 2020-04-01 00:17:50+00:00        0         1                               \n",
       "1 2020-04-01 02:31:54+00:00        0         0                               \n",
       "2 2020-04-01 02:32:13+00:00        2         8                               \n",
       "3 2020-04-01 02:33:29+00:00        0         0  @netflix @hulu @PrimeVideo   \n",
       "4 2020-04-01 02:57:57+00:00        0         1                    @Dodgers   \n",
       "\n",
       "    HashTags  \n",
       "0             \n",
       "1             \n",
       "2             \n",
       "3  #lockdown  \n",
       "4             "
      ]
     },
     "execution_count": 106,
     "metadata": {},
     "output_type": "execute_result"
    }
   ],
   "source": [
    "#Sorting by date\n",
    "tweets_behaviour.sort_values(by=\"Date\", inplace=True, ascending=True)\n",
    "print(\"Number of rows: {}\".format(tweets_behaviour.shape[0]))\n",
    "\n",
    "tweets_behaviour.drop_duplicates(subset=[\"Text\"], inplace=True)\n",
    "tweets_behaviour.reset_index(drop=True, inplace=True)\n",
    "print(\"Number of rows after deleted duplicates: {}\".format(tweets_behaviour.shape[0]))\n",
    "\n",
    "tweets_behaviour.to_csv(\"tweets_behaviour.csv\")\n",
    "tweets_behaviour.head(5)"
   ]
  }
 ],
 "metadata": {
  "kernelspec": {
   "display_name": "Python 3",
   "language": "python",
   "name": "python3"
  },
  "language_info": {
   "codemirror_mode": {
    "name": "ipython",
    "version": 3
   },
   "file_extension": ".py",
   "mimetype": "text/x-python",
   "name": "python",
   "nbconvert_exporter": "python",
   "pygments_lexer": "ipython3",
   "version": "3.8.2"
  }
 },
 "nbformat": 4,
 "nbformat_minor": 4
}
