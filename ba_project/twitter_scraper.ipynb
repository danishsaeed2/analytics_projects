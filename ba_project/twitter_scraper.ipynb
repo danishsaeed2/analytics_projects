{
 "cells": [
  {
   "cell_type": "code",
   "execution_count": 6,
   "metadata": {},
   "outputs": [],
   "source": [
    "import GetOldTweets3 as got\n",
    "import pandas as pd"
   ]
  },
  {
   "cell_type": "code",
   "execution_count": 7,
   "metadata": {},
   "outputs": [],
   "source": [
    "def get_tweets(query, top_only, start_date, end_date, max_tweets):\n",
    "   \n",
    "    # specifying tweet search criteria\n",
    "    tweetCriteria = got.manager.TweetCriteria().setQuerySearch(query)\\\n",
    "                                                .setTopTweets(top_only)\\\n",
    "                                                .setSince(start_date)\\\n",
    "                                                .setUntil(end_date)\\\n",
    "                                                .setMaxTweets(max_tweets)\n",
    "    \n",
    "    # scraping tweets based on criteria\n",
    "    tweet = got.manager.TweetManager.getTweets(tweetCriteria)\n",
    "    \n",
    "    # creating list of tweets with the tweet attributes\n",
    "    # specified in the list comprehension\n",
    "    text_tweets = [[tw.text,\n",
    "                    tw.date,\n",
    "                    tw.retweets,\n",
    "                    tw.favorites,\n",
    "                    tw.mentions,\n",
    "                    tw.hashtags] for tw in tweet]\n",
    "    \n",
    "    # creating dataframe, assigning column names to list of\n",
    "    # tweets corresponding to tweet attributes\n",
    "    tweets_df = pd.DataFrame(text_tweets, \n",
    "                            columns = ['Text','Date','Retweets','Favorites','Mentions','HashTags'])\n",
    "    \n",
    "    return tweets_df"
   ]
  },
  {
   "cell_type": "code",
   "execution_count": 12,
   "metadata": {},
   "outputs": [
    {
     "data": {
      "text/html": [
       "<div>\n",
       "<style scoped>\n",
       "    .dataframe tbody tr th:only-of-type {\n",
       "        vertical-align: middle;\n",
       "    }\n",
       "\n",
       "    .dataframe tbody tr th {\n",
       "        vertical-align: top;\n",
       "    }\n",
       "\n",
       "    .dataframe thead th {\n",
       "        text-align: right;\n",
       "    }\n",
       "</style>\n",
       "<table border=\"1\" class=\"dataframe\">\n",
       "  <thead>\n",
       "    <tr style=\"text-align: right;\">\n",
       "      <th></th>\n",
       "      <th>Text</th>\n",
       "      <th>Date</th>\n",
       "      <th>Retweets</th>\n",
       "      <th>Favorites</th>\n",
       "      <th>Mentions</th>\n",
       "      <th>HashTags</th>\n",
       "    </tr>\n",
       "  </thead>\n",
       "  <tbody>\n",
       "    <tr>\n",
       "      <th>0</th>\n",
       "      <td>Is it landlord that has been struggling since ...</td>\n",
       "      <td>2020-08-09 23:55:14+00:00</td>\n",
       "      <td>13</td>\n",
       "      <td>46</td>\n",
       "      <td></td>\n",
       "      <td></td>\n",
       "    </tr>\n",
       "    <tr>\n",
       "      <th>1</th>\n",
       "      <td>Victorian new cases trending down as impact of...</td>\n",
       "      <td>2020-08-09 23:53:42+00:00</td>\n",
       "      <td>8</td>\n",
       "      <td>29</td>\n",
       "      <td></td>\n",
       "      <td>#auspol</td>\n",
       "    </tr>\n",
       "    <tr>\n",
       "      <th>2</th>\n",
       "      <td>Hello Monday. As Melbourne starts week two in ...</td>\n",
       "      <td>2020-08-09 23:48:01+00:00</td>\n",
       "      <td>7</td>\n",
       "      <td>23</td>\n",
       "      <td></td>\n",
       "      <td></td>\n",
       "    </tr>\n",
       "    <tr>\n",
       "      <th>3</th>\n",
       "      <td>The ironic part is the same people patting you...</td>\n",
       "      <td>2020-08-09 23:47:48+00:00</td>\n",
       "      <td>5</td>\n",
       "      <td>76</td>\n",
       "      <td></td>\n",
       "      <td></td>\n",
       "    </tr>\n",
       "    <tr>\n",
       "      <th>4</th>\n",
       "      <td>In several states, positive coronavirus tests ...</td>\n",
       "      <td>2020-08-09 23:46:39+00:00</td>\n",
       "      <td>13</td>\n",
       "      <td>16</td>\n",
       "      <td></td>\n",
       "      <td></td>\n",
       "    </tr>\n",
       "  </tbody>\n",
       "</table>\n",
       "</div>"
      ],
      "text/plain": [
       "                                                Text  \\\n",
       "0  Is it landlord that has been struggling since ...   \n",
       "1  Victorian new cases trending down as impact of...   \n",
       "2  Hello Monday. As Melbourne starts week two in ...   \n",
       "3  The ironic part is the same people patting you...   \n",
       "4  In several states, positive coronavirus tests ...   \n",
       "\n",
       "                       Date  Retweets  Favorites Mentions HashTags  \n",
       "0 2020-08-09 23:55:14+00:00        13         46                    \n",
       "1 2020-08-09 23:53:42+00:00         8         29           #auspol  \n",
       "2 2020-08-09 23:48:01+00:00         7         23                    \n",
       "3 2020-08-09 23:47:48+00:00         5         76                    \n",
       "4 2020-08-09 23:46:39+00:00        13         16                    "
      ]
     },
     "execution_count": 12,
     "metadata": {},
     "output_type": "execute_result"
    }
   ],
   "source": [
    "# Only including top tweets,\n",
    "# Between a specific range of dates, with end date not inclusive\n",
    "# And specifying that we want a max number of tweets in max_tweets.\n",
    "\n",
    "# The main query word goes here, case insensitive\n",
    "query = \"lockdown\"\n",
    "\n",
    "tweets_df = get_tweets(query,\n",
    "                     top_only = True,\n",
    "                     start_date = \"2020-08-01\",\n",
    "                     end_date = \"2020-08-10\",\n",
    "                    max_tweets = 20)\n",
    "\n",
    "tweets_df.head()"
   ]
  },
  {
   "cell_type": "code",
   "execution_count": 13,
   "metadata": {},
   "outputs": [],
   "source": [
    "tweets_df.to_csv(\"tweets_df.csv\")"
   ]
  },
  {
   "cell_type": "code",
   "execution_count": null,
   "metadata": {},
   "outputs": [],
   "source": []
  }
 ],
 "metadata": {
  "kernelspec": {
   "display_name": "Python 3",
   "language": "python",
   "name": "python3"
  },
  "language_info": {
   "codemirror_mode": {
    "name": "ipython",
    "version": 3
   },
   "file_extension": ".py",
   "mimetype": "text/x-python",
   "name": "python",
   "nbconvert_exporter": "python",
   "pygments_lexer": "ipython3",
   "version": "3.8.2"
  }
 },
 "nbformat": 4,
 "nbformat_minor": 4
}
