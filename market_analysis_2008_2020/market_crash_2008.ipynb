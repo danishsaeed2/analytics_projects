{
 "cells": [
  {
   "cell_type": "code",
   "execution_count": 1,
   "metadata": {},
   "outputs": [],
   "source": [
    "import pylab\n",
    "import pandas as pd\n",
    "import numpy as np\n",
    "import scipy.stats\n",
    "from scipy.stats import norm\n",
    "from scipy.stats import shapiro\n",
    "from scipy.stats import normaltest\n",
    "from scipy.stats import yeojohnson\n",
    "import matplotlib.pyplot as plt\n",
    "from statsmodels.graphics.gofplots import qqplot\n",
    "\n",
    "%matplotlib inline"
   ]
  },
  {
   "cell_type": "markdown",
   "metadata": {},
   "source": [
    "## Nifty index values for a year during the 2008 financial crisis"
   ]
  },
  {
   "cell_type": "code",
   "execution_count": 2,
   "metadata": {
    "scrolled": false
   },
   "outputs": [
    {
     "name": "stdout",
     "output_type": "stream",
     "text": [
      "Nifty between 21-Apr-08 to 04-May-09\n"
     ]
    },
    {
     "data": {
      "text/html": [
       "<div>\n",
       "<style scoped>\n",
       "    .dataframe tbody tr th:only-of-type {\n",
       "        vertical-align: middle;\n",
       "    }\n",
       "\n",
       "    .dataframe tbody tr th {\n",
       "        vertical-align: top;\n",
       "    }\n",
       "\n",
       "    .dataframe thead th {\n",
       "        text-align: right;\n",
       "    }\n",
       "</style>\n",
       "<table border=\"1\" class=\"dataframe\">\n",
       "  <thead>\n",
       "    <tr style=\"text-align: right;\">\n",
       "      <th></th>\n",
       "      <th>Date</th>\n",
       "      <th>Price</th>\n",
       "      <th>Open</th>\n",
       "      <th>High</th>\n",
       "      <th>Low</th>\n",
       "      <th>Volume</th>\n",
       "      <th>Chg%</th>\n",
       "    </tr>\n",
       "  </thead>\n",
       "  <tbody>\n",
       "    <tr>\n",
       "      <th>0</th>\n",
       "      <td>21-Apr-08</td>\n",
       "      <td>5037.00</td>\n",
       "      <td>4955.90</td>\n",
       "      <td>5053.40</td>\n",
       "      <td>4955.90</td>\n",
       "      <td>110.42M</td>\n",
       "      <td>1.59%</td>\n",
       "    </tr>\n",
       "    <tr>\n",
       "      <th>1</th>\n",
       "      <td>22-Apr-08</td>\n",
       "      <td>5049.30</td>\n",
       "      <td>5037.05</td>\n",
       "      <td>5074.25</td>\n",
       "      <td>4994.05</td>\n",
       "      <td>126.75M</td>\n",
       "      <td>0.24%</td>\n",
       "    </tr>\n",
       "    <tr>\n",
       "      <th>2</th>\n",
       "      <td>23-Apr-08</td>\n",
       "      <td>5022.80</td>\n",
       "      <td>5044.35</td>\n",
       "      <td>5083.50</td>\n",
       "      <td>5003.55</td>\n",
       "      <td>144.56M</td>\n",
       "      <td>-0.52%</td>\n",
       "    </tr>\n",
       "    <tr>\n",
       "      <th>3</th>\n",
       "      <td>24-Apr-08</td>\n",
       "      <td>4999.85</td>\n",
       "      <td>5022.90</td>\n",
       "      <td>5072.70</td>\n",
       "      <td>4991.35</td>\n",
       "      <td>154.29M</td>\n",
       "      <td>-0.46%</td>\n",
       "    </tr>\n",
       "    <tr>\n",
       "      <th>4</th>\n",
       "      <td>25-Apr-08</td>\n",
       "      <td>5111.70</td>\n",
       "      <td>4999.15</td>\n",
       "      <td>5117.70</td>\n",
       "      <td>4999.15</td>\n",
       "      <td>134.45M</td>\n",
       "      <td>2.24%</td>\n",
       "    </tr>\n",
       "    <tr>\n",
       "      <th>...</th>\n",
       "      <td>...</td>\n",
       "      <td>...</td>\n",
       "      <td>...</td>\n",
       "      <td>...</td>\n",
       "      <td>...</td>\n",
       "      <td>...</td>\n",
       "      <td>...</td>\n",
       "    </tr>\n",
       "    <tr>\n",
       "      <th>244</th>\n",
       "      <td>24-Apr-09</td>\n",
       "      <td>3480.75</td>\n",
       "      <td>3423.60</td>\n",
       "      <td>3491.35</td>\n",
       "      <td>3402.90</td>\n",
       "      <td>306.13M</td>\n",
       "      <td>1.67%</td>\n",
       "    </tr>\n",
       "    <tr>\n",
       "      <th>245</th>\n",
       "      <td>27-Apr-09</td>\n",
       "      <td>3470.00</td>\n",
       "      <td>3481.30</td>\n",
       "      <td>3517.25</td>\n",
       "      <td>3435.30</td>\n",
       "      <td>315.94M</td>\n",
       "      <td>-0.31%</td>\n",
       "    </tr>\n",
       "    <tr>\n",
       "      <th>246</th>\n",
       "      <td>28-Apr-09</td>\n",
       "      <td>3362.35</td>\n",
       "      <td>3469.50</td>\n",
       "      <td>3471.95</td>\n",
       "      <td>3351.50</td>\n",
       "      <td>287.14M</td>\n",
       "      <td>-3.10%</td>\n",
       "    </tr>\n",
       "    <tr>\n",
       "      <th>247</th>\n",
       "      <td>29-Apr-09</td>\n",
       "      <td>3473.95</td>\n",
       "      <td>3371.65</td>\n",
       "      <td>3486.40</td>\n",
       "      <td>3366.70</td>\n",
       "      <td>483.58M</td>\n",
       "      <td>3.32%</td>\n",
       "    </tr>\n",
       "    <tr>\n",
       "      <th>248</th>\n",
       "      <td>04-May-09</td>\n",
       "      <td>3654.00</td>\n",
       "      <td>3478.70</td>\n",
       "      <td>3664.50</td>\n",
       "      <td>3478.70</td>\n",
       "      <td>363.87M</td>\n",
       "      <td>5.18%</td>\n",
       "    </tr>\n",
       "  </tbody>\n",
       "</table>\n",
       "<p>249 rows × 7 columns</p>\n",
       "</div>"
      ],
      "text/plain": [
       "          Date    Price     Open     High      Low   Volume    Chg%\n",
       "0    21-Apr-08  5037.00  4955.90  5053.40  4955.90  110.42M   1.59%\n",
       "1    22-Apr-08  5049.30  5037.05  5074.25  4994.05  126.75M   0.24%\n",
       "2    23-Apr-08  5022.80  5044.35  5083.50  5003.55  144.56M  -0.52%\n",
       "3    24-Apr-08  4999.85  5022.90  5072.70  4991.35  154.29M  -0.46%\n",
       "4    25-Apr-08  5111.70  4999.15  5117.70  4999.15  134.45M   2.24%\n",
       "..         ...      ...      ...      ...      ...      ...     ...\n",
       "244  24-Apr-09  3480.75  3423.60  3491.35  3402.90  306.13M   1.67%\n",
       "245  27-Apr-09  3470.00  3481.30  3517.25  3435.30  315.94M  -0.31%\n",
       "246  28-Apr-09  3362.35  3469.50  3471.95  3351.50  287.14M  -3.10%\n",
       "247  29-Apr-09  3473.95  3371.65  3486.40  3366.70  483.58M   3.32%\n",
       "248  04-May-09  3654.00  3478.70  3664.50  3478.70  363.87M   5.18%\n",
       "\n",
       "[249 rows x 7 columns]"
      ]
     },
     "execution_count": 2,
     "metadata": {},
     "output_type": "execute_result"
    }
   ],
   "source": [
    "data = pd.read_csv(\"2008 Great Recession.csv\")\n",
    "print(\"Nifty between {} to {}\".format(data[\"Date\"].iloc[0],data[\"Date\"].iloc[-1]))\n",
    "data"
   ]
  },
  {
   "cell_type": "code",
   "execution_count": 3,
   "metadata": {},
   "outputs": [
    {
     "data": {
      "image/png": "[encoded data removed]",
      "text/plain": [
       "<Figure size 576x360 with 1 Axes>"
      ]
     },
     "metadata": {
      "needs_background": "light"
     },
     "output_type": "display_data"
    }
   ],
   "source": [
    "plt.figure(figsize=(8, 5))\n",
    "plt.plot(data[\"Date\"],data[\"Price\"])\n",
    "plt.xlabel(\"Date\")\n",
    "plt.ylabel(\"Index Value\")\n",
    "plt.title(\"Nifty between {} to {}\".format(data[\"Date\"].iloc[0],data[\"Date\"].iloc[-1]))\n",
    "ax=plt.gca()\n",
    "ax.xaxis.set_major_locator(plt.MaxNLocator(10))\n",
    "plt.xticks(rotation=45)\n",
    "plt.show()"
   ]
  },
  {
   "cell_type": "code",
   "execution_count": 4,
   "metadata": {
    "scrolled": false
   },
   "outputs": [
    {
     "name": "stdout",
     "output_type": "stream",
     "text": [
      "Number of rows: 248\n"
     ]
    },
    {
     "data": {
      "text/html": [
       "<div>\n",
       "<style scoped>\n",
       "    .dataframe tbody tr th:only-of-type {\n",
       "        vertical-align: middle;\n",
       "    }\n",
       "\n",
       "    .dataframe tbody tr th {\n",
       "        vertical-align: top;\n",
       "    }\n",
       "\n",
       "    .dataframe thead th {\n",
       "        text-align: right;\n",
       "    }\n",
       "</style>\n",
       "<table border=\"1\" class=\"dataframe\">\n",
       "  <thead>\n",
       "    <tr style=\"text-align: right;\">\n",
       "      <th></th>\n",
       "      <th>Date</th>\n",
       "      <th>Price</th>\n",
       "      <th>Open</th>\n",
       "      <th>High</th>\n",
       "      <th>Low</th>\n",
       "      <th>Volume</th>\n",
       "      <th>Chg%</th>\n",
       "      <th>LogReturn</th>\n",
       "    </tr>\n",
       "  </thead>\n",
       "  <tbody>\n",
       "    <tr>\n",
       "      <th>0</th>\n",
       "      <td>21-Apr-08</td>\n",
       "      <td>5037.00</td>\n",
       "      <td>4955.90</td>\n",
       "      <td>5053.40</td>\n",
       "      <td>4955.90</td>\n",
       "      <td>110.42M</td>\n",
       "      <td>1.59%</td>\n",
       "      <td>0.002439</td>\n",
       "    </tr>\n",
       "    <tr>\n",
       "      <th>1</th>\n",
       "      <td>22-Apr-08</td>\n",
       "      <td>5049.30</td>\n",
       "      <td>5037.05</td>\n",
       "      <td>5074.25</td>\n",
       "      <td>4994.05</td>\n",
       "      <td>126.75M</td>\n",
       "      <td>0.24%</td>\n",
       "      <td>-0.005262</td>\n",
       "    </tr>\n",
       "    <tr>\n",
       "      <th>2</th>\n",
       "      <td>23-Apr-08</td>\n",
       "      <td>5022.80</td>\n",
       "      <td>5044.35</td>\n",
       "      <td>5083.50</td>\n",
       "      <td>5003.55</td>\n",
       "      <td>144.56M</td>\n",
       "      <td>-0.52%</td>\n",
       "      <td>-0.004580</td>\n",
       "    </tr>\n",
       "    <tr>\n",
       "      <th>3</th>\n",
       "      <td>24-Apr-08</td>\n",
       "      <td>4999.85</td>\n",
       "      <td>5022.90</td>\n",
       "      <td>5072.70</td>\n",
       "      <td>4991.35</td>\n",
       "      <td>154.29M</td>\n",
       "      <td>-0.46%</td>\n",
       "      <td>0.022124</td>\n",
       "    </tr>\n",
       "    <tr>\n",
       "      <th>4</th>\n",
       "      <td>25-Apr-08</td>\n",
       "      <td>5111.70</td>\n",
       "      <td>4999.15</td>\n",
       "      <td>5117.70</td>\n",
       "      <td>4999.15</td>\n",
       "      <td>134.45M</td>\n",
       "      <td>2.24%</td>\n",
       "      <td>-0.004323</td>\n",
       "    </tr>\n",
       "  </tbody>\n",
       "</table>\n",
       "</div>"
      ],
      "text/plain": [
       "        Date    Price     Open     High      Low   Volume    Chg%  LogReturn\n",
       "0  21-Apr-08  5037.00  4955.90  5053.40  4955.90  110.42M   1.59%   0.002439\n",
       "1  22-Apr-08  5049.30  5037.05  5074.25  4994.05  126.75M   0.24%  -0.005262\n",
       "2  23-Apr-08  5022.80  5044.35  5083.50  5003.55  144.56M  -0.52%  -0.004580\n",
       "3  24-Apr-08  4999.85  5022.90  5072.70  4991.35  154.29M  -0.46%   0.022124\n",
       "4  25-Apr-08  5111.70  4999.15  5117.70  4999.15  134.45M   2.24%  -0.004323"
      ]
     },
     "execution_count": 4,
     "metadata": {},
     "output_type": "execute_result"
    }
   ],
   "source": [
    "# Calculating log return of index\n",
    "data[\"LogReturn\"] = np.log(data[\"Price\"]).shift(-1) - np.log(data[\"Price\"])\n",
    "data.dropna(inplace=True)\n",
    "print(\"Number of rows: {}\".format(data.shape[0]))\n",
    "data.head(5)"
   ]
  },
  {
   "cell_type": "markdown",
   "metadata": {},
   "source": [
    "## Distribution of Index log-returns"
   ]
  },
  {
   "cell_type": "code",
   "execution_count": 5,
   "metadata": {
    "scrolled": false
   },
   "outputs": [
    {
     "data": {
      "image/png": "[encoded data removed]",
      "text/plain": [
       "<Figure size 576x360 with 1 Axes>"
      ]
     },
     "metadata": {
      "needs_background": "light"
     },
     "output_type": "display_data"
    }
   ],
   "source": [
    "mu = data[\"LogReturn\"].mean()\n",
    "sigma = data[\"LogReturn\"].std(ddof=1)\n",
    "\n",
    "density = pd.DataFrame()\n",
    "density[\"x\"] = np.arange(data[\"LogReturn\"].min()-0.01, data[\"LogReturn\"].max()+0.01, 0.001)\n",
    "density[\"pdf\"] = norm.pdf(density[\"x\"], mu, sigma)\n",
    "\n",
    "data[\"LogReturn\"].hist(bins=50, figsize=(8, 5))\n",
    "plt.plot(density[\"x\"], density[\"pdf\"], color=\"red\")\n",
    "plt.title(\"Histogram of log returns of market\")\n",
    "plt.show()"
   ]
  },
  {
   "cell_type": "markdown",
   "metadata": {},
   "source": [
    "## Checks for normality of distribution"
   ]
  },
  {
   "cell_type": "code",
   "execution_count": 6,
   "metadata": {
    "scrolled": true
   },
   "outputs": [
    {
     "data": {
      "image/png": "[encoded data removed]",
      "text/plain": [
       "<Figure size 432x288 with 1 Axes>"
      ]
     },
     "metadata": {
      "needs_background": "light"
     },
     "output_type": "display_data"
    }
   ],
   "source": [
    "# QQ plot\n",
    "qqplot(data[\"LogReturn\"], loc=mu, scale=sigma, line=\"45\")\n",
    "plt.show()"
   ]
  },
  {
   "cell_type": "code",
   "execution_count": 7,
   "metadata": {
    "scrolled": true
   },
   "outputs": [
    {
     "name": "stdout",
     "output_type": "stream",
     "text": [
      "Statistics = 0.983, p = 0.005\n",
      "Sample does not look normally distributed (reject H0)\n"
     ]
    }
   ],
   "source": [
    "# Shapiro Wilk normality test\n",
    "# H0: Distribution is normal\n",
    "\n",
    "stat, p = shapiro(data[\"LogReturn\"])\n",
    "print(\"Statistics = {:.3f}, p = {:.3f}\".format(stat, p))\n",
    "alpha = 0.05\n",
    "if p > alpha:\n",
    "    print(\"Sample looks normal distributed (do not reject H0)\")\n",
    "else:\n",
    "    print(\"Sample does not look normally distributed (reject H0)\")"
   ]
  },
  {
   "cell_type": "code",
   "execution_count": 8,
   "metadata": {},
   "outputs": [
    {
     "name": "stdout",
     "output_type": "stream",
     "text": [
      "p = 0.00039517085579976127\n",
      "Sample does not look normally distributed (reject H0)\n"
     ]
    }
   ],
   "source": [
    "# https://docs.scipy.org/doc/scipy/reference/generated/scipy.stats.normaltest.html\n",
    "# Normality test based on D’Agostino and Pearson’s test\n",
    "\n",
    "k2, p = normaltest(data[\"LogReturn\"])\n",
    "print(\"p = {}\".format(p))\n",
    "alpha = 0.05\n",
    "if p > alpha:\n",
    "    print(\"Sample looks normal distributed (do not reject H0)\")\n",
    "else:\n",
    "    print(\"Sample does not look normally distributed (reject H0)\")"
   ]
  },
  {
   "cell_type": "markdown",
   "metadata": {},
   "source": [
    "**The distribution does not seem to be distributed normally. Hence, I have now tried some transformation to try to fit into normal distribution**"
   ]
  },
  {
   "cell_type": "markdown",
   "metadata": {},
   "source": [
    "## Data transformation to fit normal distribution"
   ]
  },
  {
   "cell_type": "markdown",
   "metadata": {},
   "source": [
    "**Yeo Johnson** transformation ([https://docs.scipy.org/doc/scipy/reference/generated/scipy.stats.yeojohnson.html](https://docs.scipy.org/doc/scipy/reference/generated/scipy.stats.yeojohnson.html))"
   ]
  },
  {
   "cell_type": "code",
   "execution_count": 9,
   "metadata": {
    "scrolled": true
   },
   "outputs": [],
   "source": [
    "# Yeo Johnson transformation\n",
    "xt, lmbda_opt = yeojohnson(data[\"LogReturn\"])"
   ]
  },
  {
   "cell_type": "code",
   "execution_count": 10,
   "metadata": {
    "scrolled": false
   },
   "outputs": [
    {
     "data": {
      "text/html": [
       "<div>\n",
       "<style scoped>\n",
       "    .dataframe tbody tr th:only-of-type {\n",
       "        vertical-align: middle;\n",
       "    }\n",
       "\n",
       "    .dataframe tbody tr th {\n",
       "        vertical-align: top;\n",
       "    }\n",
       "\n",
       "    .dataframe thead th {\n",
       "        text-align: right;\n",
       "    }\n",
       "</style>\n",
       "<table border=\"1\" class=\"dataframe\">\n",
       "  <thead>\n",
       "    <tr style=\"text-align: right;\">\n",
       "      <th></th>\n",
       "      <th>LogReturn</th>\n",
       "      <th>After transformation</th>\n",
       "    </tr>\n",
       "  </thead>\n",
       "  <tbody>\n",
       "    <tr>\n",
       "      <th>0</th>\n",
       "      <td>0.002439</td>\n",
       "      <td>0.002447</td>\n",
       "    </tr>\n",
       "    <tr>\n",
       "      <th>1</th>\n",
       "      <td>-0.005262</td>\n",
       "      <td>-0.005224</td>\n",
       "    </tr>\n",
       "    <tr>\n",
       "      <th>2</th>\n",
       "      <td>-0.004580</td>\n",
       "      <td>-0.004551</td>\n",
       "    </tr>\n",
       "    <tr>\n",
       "      <th>3</th>\n",
       "      <td>0.022124</td>\n",
       "      <td>0.022814</td>\n",
       "    </tr>\n",
       "    <tr>\n",
       "      <th>4</th>\n",
       "      <td>-0.004323</td>\n",
       "      <td>-0.004297</td>\n",
       "    </tr>\n",
       "  </tbody>\n",
       "</table>\n",
       "</div>"
      ],
      "text/plain": [
       "   LogReturn  After transformation\n",
       "0   0.002439              0.002447\n",
       "1  -0.005262             -0.005224\n",
       "2  -0.004580             -0.004551\n",
       "3   0.022124              0.022814\n",
       "4  -0.004323             -0.004297"
      ]
     },
     "execution_count": 10,
     "metadata": {},
     "output_type": "execute_result"
    }
   ],
   "source": [
    "# Difference between original log returns and transformed values\n",
    "temp = pd.DataFrame(data[\"LogReturn\"])\n",
    "temp[\"After transformation\"] = pd.Series(xt)\n",
    "temp.head()"
   ]
  },
  {
   "cell_type": "code",
   "execution_count": 11,
   "metadata": {
    "scrolled": true
   },
   "outputs": [
    {
     "data": {
      "image/png": "[encoded data removed]",
      "text/plain": [
       "<Figure size 576x360 with 1 Axes>"
      ]
     },
     "metadata": {
      "needs_background": "light"
     },
     "output_type": "display_data"
    }
   ],
   "source": [
    "mu_n = xt.mean()\n",
    "sigma_n = xt.std(ddof=1)\n",
    "\n",
    "density = pd.DataFrame()\n",
    "density[\"x\"] = np.arange(xt.min()-0.01, xt.max()+0.01, 0.001)\n",
    "density[\"pdf\"] = norm.pdf(density[\"x\"], mu_n, sigma_n)\n",
    "\n",
    "pd.Series(xt).hist(bins=50, figsize=(8, 5))\n",
    "plt.plot(density[\"x\"], density[\"pdf\"], color=\"red\")\n",
    "plt.title(\"Histogram of Yeo Johnson transformed log returns of market\")\n",
    "plt.show()"
   ]
  },
  {
   "cell_type": "markdown",
   "metadata": {},
   "source": [
    "## Check for normality after transformation"
   ]
  },
  {
   "cell_type": "code",
   "execution_count": 12,
   "metadata": {
    "scrolled": false
   },
   "outputs": [
    {
     "data": {
      "image/png": "[encoded data removed]",
      "text/plain": [
       "<Figure size 432x288 with 1 Axes>"
      ]
     },
     "metadata": {
      "needs_background": "light"
     },
     "output_type": "display_data"
    }
   ],
   "source": [
    "# QQ plot after transformation\n",
    "qqplot(xt, loc=mu_n, scale=sigma_n, line=\"45\")\n",
    "plt.show()"
   ]
  },
  {
   "cell_type": "code",
   "execution_count": 13,
   "metadata": {
    "scrolled": true
   },
   "outputs": [
    {
     "name": "stdout",
     "output_type": "stream",
     "text": [
      "Statistics = 0.989, p = 0.057\n",
      "Sample looks normal distributed (do not reject H0)\n"
     ]
    }
   ],
   "source": [
    "# Shapiro Wilk test\n",
    "# H0: Distribution is normal\n",
    "\n",
    "stat, p = shapiro(xt)\n",
    "print(\"Statistics = {:.3f}, p = {:.3f}\".format(stat, p))\n",
    "alpha = 0.05\n",
    "if p > alpha:\n",
    "    print(\"Sample looks normal distributed (do not reject H0)\")\n",
    "else:\n",
    "    print(\"Sample does not look normally distributed (reject H0)\")"
   ]
  },
  {
   "cell_type": "code",
   "execution_count": 14,
   "metadata": {},
   "outputs": [
    {
     "name": "stdout",
     "output_type": "stream",
     "text": [
      "p = 0.09119230260435833\n",
      "Sample looks normal distributed (do not reject H0)\n"
     ]
    }
   ],
   "source": [
    "# https://docs.scipy.org/doc/scipy/reference/generated/scipy.stats.normaltest.html\n",
    "# Normality test based on D’Agostino and Pearson’s test\n",
    "\n",
    "k2, p = normaltest(xt)\n",
    "print(\"p = {}\".format(p))\n",
    "alpha = 0.05\n",
    "if p > alpha:\n",
    "    print(\"Sample looks normal distributed (do not reject H0)\")\n",
    "else:\n",
    "    print(\"Sample does not look normally distributed (reject H0)\")"
   ]
  },
  {
   "cell_type": "markdown",
   "metadata": {},
   "source": [
    "**After the transformation, the data now seems to be normally distributed**"
   ]
  },
  {
   "cell_type": "markdown",
   "metadata": {},
   "source": [
    "## Probabilities of losses, VaR, SD"
   ]
  },
  {
   "cell_type": "code",
   "execution_count": 15,
   "metadata": {
    "scrolled": false
   },
   "outputs": [
    {
     "name": "stdout",
     "output_type": "stream",
     "text": [
      "The Probability is 0.03196\n"
     ]
    }
   ],
   "source": [
    "# Probability that the index will drop over 5% in a day\n",
    "prob_return1 = norm.cdf(-0.05, mu_n, sigma_n)\n",
    "print(\"The Probability is {:.5f}\".format(prob_return1))"
   ]
  },
  {
   "cell_type": "code",
   "execution_count": 16,
   "metadata": {},
   "outputs": [
    {
     "name": "stdout",
     "output_type": "stream",
     "text": [
      "The Probability is 0.00010\n"
     ]
    }
   ],
   "source": [
    "# Probability that the index will drop over 10% in a day\n",
    "prob_return1 = norm.cdf(-0.10, mu_n, sigma_n)\n",
    "print(\"The Probability is {:.5f}\".format(prob_return1))"
   ]
  },
  {
   "cell_type": "code",
   "execution_count": 17,
   "metadata": {},
   "outputs": [
    {
     "name": "stdout",
     "output_type": "stream",
     "text": [
      "The probability of dropping over 40% in 248 days is 0.22070\n"
     ]
    }
   ],
   "source": [
    "# Drop over 40% in 248 days\n",
    "mu248 = 248*mu_n\n",
    "sigma248 = (248**0.5) * sigma_n\n",
    "print(\"The probability of dropping over 40% in 248 days is {:.5f}\".format(norm.cdf(-0.4, mu248, sigma248)))"
   ]
  },
  {
   "cell_type": "code",
   "execution_count": 18,
   "metadata": {},
   "outputs": [
    {
     "name": "stdout",
     "output_type": "stream",
     "text": [
      "The probability of dropping over 20% in 248 days is 0.38347\n"
     ]
    }
   ],
   "source": [
    "# Drop over 20% in 248 days\n",
    "mu248 = 248*mu_n\n",
    "sigma248 = (248**0.5) * sigma_n\n",
    "print(\"The probability of dropping over 20% in 248 days is {:.5f}\".format(norm.cdf(-0.2, mu248, sigma248)))"
   ]
  },
  {
   "cell_type": "code",
   "execution_count": 19,
   "metadata": {
    "scrolled": true
   },
   "outputs": [
    {
     "name": "stdout",
     "output_type": "stream",
     "text": [
      "1-day 5% Value at Risk (VaR): -4.44%\n"
     ]
    }
   ],
   "source": [
    "# 1-day 5% Value at Risk (VaR)\n",
    "print(\"1-day 5% Value at Risk (VaR): {:.2f}%\".format(norm.ppf(0.05, mu_n, sigma_n)*100))"
   ]
  },
  {
   "cell_type": "code",
   "execution_count": 20,
   "metadata": {
    "scrolled": true
   },
   "outputs": [
    {
     "name": "stdout",
     "output_type": "stream",
     "text": [
      "SD of original index return: 2.7073%\n",
      "SD of transformed index return: 2.6824%\n"
     ]
    }
   ],
   "source": [
    "print(\"SD of original index return: {:.4f}%\".format(data[\"LogReturn\"].std(ddof=1)*100))\n",
    "print(\"SD of transformed index return: {:.4f}%\".format(xt.std(ddof=1)*100))"
   ]
  },
  {
   "cell_type": "code",
   "execution_count": 21,
   "metadata": {},
   "outputs": [
    {
     "name": "stdout",
     "output_type": "stream",
     "text": [
      "Crash from the highest to lowest index value during the time period: -51.7195%\n"
     ]
    }
   ],
   "source": [
    "crash = ((data[\"Price\"].min()-data[\"Price\"].max())/data[\"Price\"].max())*100\n",
    "print(\"Crash from the highest to lowest index value during the time period: {:.4f}%\".format(crash))"
   ]
  }
 ],
 "metadata": {
  "kernelspec": {
   "display_name": "Python 3",
   "language": "python",
   "name": "python3"
  },
  "language_info": {
   "codemirror_mode": {
    "name": "ipython",
    "version": 3
   },
   "file_extension": ".py",
   "mimetype": "text/x-python",
   "name": "python",
   "nbconvert_exporter": "python",
   "pygments_lexer": "ipython3",
   "version": "3.7.9"
  }
 },
 "nbformat": 4,
 "nbformat_minor": 4
}
