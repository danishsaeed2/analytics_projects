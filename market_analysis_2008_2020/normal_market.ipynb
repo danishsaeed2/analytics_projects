{
 "cells": [
  {
   "cell_type": "code",
   "execution_count": 1,
   "metadata": {},
   "outputs": [],
   "source": [
    "import pylab\n",
    "import pandas as pd\n",
    "import numpy as np\n",
    "import scipy.stats\n",
    "from scipy.stats import norm\n",
    "from scipy.stats import shapiro\n",
    "from scipy.stats import normaltest\n",
    "from scipy.stats import yeojohnson\n",
    "import matplotlib.pyplot as plt\n",
    "from statsmodels.graphics.gofplots import qqplot\n",
    "\n",
    "%matplotlib inline"
   ]
  },
  {
   "cell_type": "markdown",
   "metadata": {},
   "source": [
    "## Nifty index values for a year during normal market"
   ]
  },
  {
   "cell_type": "code",
   "execution_count": 2,
   "metadata": {
    "scrolled": false
   },
   "outputs": [
    {
     "name": "stdout",
     "output_type": "stream",
     "text": [
      "Nifty between 01-Aug-16 to 31-Jul-17\n"
     ]
    },
    {
     "data": {
      "text/html": [
       "<div>\n",
       "<style scoped>\n",
       "    .dataframe tbody tr th:only-of-type {\n",
       "        vertical-align: middle;\n",
       "    }\n",
       "\n",
       "    .dataframe tbody tr th {\n",
       "        vertical-align: top;\n",
       "    }\n",
       "\n",
       "    .dataframe thead th {\n",
       "        text-align: right;\n",
       "    }\n",
       "</style>\n",
       "<table border=\"1\" class=\"dataframe\">\n",
       "  <thead>\n",
       "    <tr style=\"text-align: right;\">\n",
       "      <th></th>\n",
       "      <th>Date</th>\n",
       "      <th>Price</th>\n",
       "      <th>Open</th>\n",
       "      <th>High</th>\n",
       "      <th>Low</th>\n",
       "      <th>Volume</th>\n",
       "      <th>Chg%</th>\n",
       "    </tr>\n",
       "  </thead>\n",
       "  <tbody>\n",
       "    <tr>\n",
       "      <th>0</th>\n",
       "      <td>01-Aug-16</td>\n",
       "      <td>8636.55</td>\n",
       "      <td>8654.30</td>\n",
       "      <td>8711.30</td>\n",
       "      <td>8590.50</td>\n",
       "      <td>194.19M</td>\n",
       "      <td>-0.02%</td>\n",
       "    </tr>\n",
       "    <tr>\n",
       "      <th>1</th>\n",
       "      <td>02-Aug-16</td>\n",
       "      <td>8622.90</td>\n",
       "      <td>8647.45</td>\n",
       "      <td>8687.20</td>\n",
       "      <td>8611.40</td>\n",
       "      <td>174.56M</td>\n",
       "      <td>-0.16%</td>\n",
       "    </tr>\n",
       "    <tr>\n",
       "      <th>2</th>\n",
       "      <td>03-Aug-16</td>\n",
       "      <td>8544.85</td>\n",
       "      <td>8635.20</td>\n",
       "      <td>8635.45</td>\n",
       "      <td>8529.60</td>\n",
       "      <td>168.03M</td>\n",
       "      <td>-0.91%</td>\n",
       "    </tr>\n",
       "    <tr>\n",
       "      <th>3</th>\n",
       "      <td>04-Aug-16</td>\n",
       "      <td>8551.10</td>\n",
       "      <td>8599.95</td>\n",
       "      <td>8601.40</td>\n",
       "      <td>8518.15</td>\n",
       "      <td>169.78M</td>\n",
       "      <td>0.07%</td>\n",
       "    </tr>\n",
       "    <tr>\n",
       "      <th>4</th>\n",
       "      <td>05-Aug-16</td>\n",
       "      <td>8683.15</td>\n",
       "      <td>8600.20</td>\n",
       "      <td>8689.40</td>\n",
       "      <td>8590.15</td>\n",
       "      <td>162.78M</td>\n",
       "      <td>1.54%</td>\n",
       "    </tr>\n",
       "    <tr>\n",
       "      <th>...</th>\n",
       "      <td>...</td>\n",
       "      <td>...</td>\n",
       "      <td>...</td>\n",
       "      <td>...</td>\n",
       "      <td>...</td>\n",
       "      <td>...</td>\n",
       "      <td>...</td>\n",
       "    </tr>\n",
       "    <tr>\n",
       "      <th>243</th>\n",
       "      <td>25-Jul-17</td>\n",
       "      <td>9964.55</td>\n",
       "      <td>10010.55</td>\n",
       "      <td>10011.30</td>\n",
       "      <td>9949.10</td>\n",
       "      <td>191.21M</td>\n",
       "      <td>-0.02%</td>\n",
       "    </tr>\n",
       "    <tr>\n",
       "      <th>244</th>\n",
       "      <td>26-Jul-17</td>\n",
       "      <td>10020.65</td>\n",
       "      <td>9983.65</td>\n",
       "      <td>10025.95</td>\n",
       "      <td>9965.95</td>\n",
       "      <td>203.70M</td>\n",
       "      <td>0.56%</td>\n",
       "    </tr>\n",
       "    <tr>\n",
       "      <th>245</th>\n",
       "      <td>27-Jul-17</td>\n",
       "      <td>10020.55</td>\n",
       "      <td>10063.25</td>\n",
       "      <td>10114.85</td>\n",
       "      <td>10005.50</td>\n",
       "      <td>296.78M</td>\n",
       "      <td>0.00%</td>\n",
       "    </tr>\n",
       "    <tr>\n",
       "      <th>246</th>\n",
       "      <td>28-Jul-17</td>\n",
       "      <td>10014.50</td>\n",
       "      <td>9996.55</td>\n",
       "      <td>10026.05</td>\n",
       "      <td>9944.50</td>\n",
       "      <td>197.49M</td>\n",
       "      <td>-0.06%</td>\n",
       "    </tr>\n",
       "    <tr>\n",
       "      <th>247</th>\n",
       "      <td>31-Jul-17</td>\n",
       "      <td>10077.10</td>\n",
       "      <td>10034.70</td>\n",
       "      <td>10085.90</td>\n",
       "      <td>10016.95</td>\n",
       "      <td>245.10M</td>\n",
       "      <td>0.63%</td>\n",
       "    </tr>\n",
       "  </tbody>\n",
       "</table>\n",
       "<p>248 rows × 7 columns</p>\n",
       "</div>"
      ],
      "text/plain": [
       "          Date     Price      Open      High       Low   Volume    Chg%\n",
       "0    01-Aug-16   8636.55   8654.30   8711.30   8590.50  194.19M  -0.02%\n",
       "1    02-Aug-16   8622.90   8647.45   8687.20   8611.40  174.56M  -0.16%\n",
       "2    03-Aug-16   8544.85   8635.20   8635.45   8529.60  168.03M  -0.91%\n",
       "3    04-Aug-16   8551.10   8599.95   8601.40   8518.15  169.78M   0.07%\n",
       "4    05-Aug-16   8683.15   8600.20   8689.40   8590.15  162.78M   1.54%\n",
       "..         ...       ...       ...       ...       ...      ...     ...\n",
       "243  25-Jul-17   9964.55  10010.55  10011.30   9949.10  191.21M  -0.02%\n",
       "244  26-Jul-17  10020.65   9983.65  10025.95   9965.95  203.70M   0.56%\n",
       "245  27-Jul-17  10020.55  10063.25  10114.85  10005.50  296.78M   0.00%\n",
       "246  28-Jul-17  10014.50   9996.55  10026.05   9944.50  197.49M  -0.06%\n",
       "247  31-Jul-17  10077.10  10034.70  10085.90  10016.95  245.10M   0.63%\n",
       "\n",
       "[248 rows x 7 columns]"
      ]
     },
     "execution_count": 2,
     "metadata": {},
     "output_type": "execute_result"
    }
   ],
   "source": [
    "data = pd.read_csv(\"normal market.csv\")\n",
    "print(\"Nifty between {} to {}\".format(data[\"Date\"].iloc[0],data[\"Date\"].iloc[-1]))\n",
    "data"
   ]
  },
  {
   "cell_type": "code",
   "execution_count": 3,
   "metadata": {
    "scrolled": false
   },
   "outputs": [
    {
     "data": {
      "image/png": "[encoded data removed]",
      "text/plain": [
       "<Figure size 576x360 with 1 Axes>"
      ]
     },
     "metadata": {
      "needs_background": "light"
     },
     "output_type": "display_data"
    }
   ],
   "source": [
    "plt.figure(figsize=(8, 5))\n",
    "plt.plot(data[\"Date\"],data[\"Price\"])\n",
    "plt.xlabel(\"Date\")\n",
    "plt.ylabel(\"Index Value\")\n",
    "plt.title(\"Nifty between {} to {}\".format(data[\"Date\"].iloc[0],data[\"Date\"].iloc[-1]))\n",
    "ax=plt.gca()\n",
    "ax.xaxis.set_major_locator(plt.MaxNLocator(10))\n",
    "plt.xticks(rotation=45)\n",
    "plt.show()"
   ]
  },
  {
   "cell_type": "code",
   "execution_count": 4,
   "metadata": {
    "scrolled": false
   },
   "outputs": [
    {
     "name": "stdout",
     "output_type": "stream",
     "text": [
      "Number of rows: 247\n"
     ]
    },
    {
     "data": {
      "text/html": [
       "<div>\n",
       "<style scoped>\n",
       "    .dataframe tbody tr th:only-of-type {\n",
       "        vertical-align: middle;\n",
       "    }\n",
       "\n",
       "    .dataframe tbody tr th {\n",
       "        vertical-align: top;\n",
       "    }\n",
       "\n",
       "    .dataframe thead th {\n",
       "        text-align: right;\n",
       "    }\n",
       "</style>\n",
       "<table border=\"1\" class=\"dataframe\">\n",
       "  <thead>\n",
       "    <tr style=\"text-align: right;\">\n",
       "      <th></th>\n",
       "      <th>Date</th>\n",
       "      <th>Price</th>\n",
       "      <th>Open</th>\n",
       "      <th>High</th>\n",
       "      <th>Low</th>\n",
       "      <th>Volume</th>\n",
       "      <th>Chg%</th>\n",
       "      <th>LogReturn</th>\n",
       "    </tr>\n",
       "  </thead>\n",
       "  <tbody>\n",
       "    <tr>\n",
       "      <th>0</th>\n",
       "      <td>01-Aug-16</td>\n",
       "      <td>8636.55</td>\n",
       "      <td>8654.30</td>\n",
       "      <td>8711.30</td>\n",
       "      <td>8590.50</td>\n",
       "      <td>194.19M</td>\n",
       "      <td>-0.02%</td>\n",
       "      <td>-0.001582</td>\n",
       "    </tr>\n",
       "    <tr>\n",
       "      <th>1</th>\n",
       "      <td>02-Aug-16</td>\n",
       "      <td>8622.90</td>\n",
       "      <td>8647.45</td>\n",
       "      <td>8687.20</td>\n",
       "      <td>8611.40</td>\n",
       "      <td>174.56M</td>\n",
       "      <td>-0.16%</td>\n",
       "      <td>-0.009093</td>\n",
       "    </tr>\n",
       "    <tr>\n",
       "      <th>2</th>\n",
       "      <td>03-Aug-16</td>\n",
       "      <td>8544.85</td>\n",
       "      <td>8635.20</td>\n",
       "      <td>8635.45</td>\n",
       "      <td>8529.60</td>\n",
       "      <td>168.03M</td>\n",
       "      <td>-0.91%</td>\n",
       "      <td>0.000731</td>\n",
       "    </tr>\n",
       "    <tr>\n",
       "      <th>3</th>\n",
       "      <td>04-Aug-16</td>\n",
       "      <td>8551.10</td>\n",
       "      <td>8599.95</td>\n",
       "      <td>8601.40</td>\n",
       "      <td>8518.15</td>\n",
       "      <td>169.78M</td>\n",
       "      <td>0.07%</td>\n",
       "      <td>0.015324</td>\n",
       "    </tr>\n",
       "    <tr>\n",
       "      <th>4</th>\n",
       "      <td>05-Aug-16</td>\n",
       "      <td>8683.15</td>\n",
       "      <td>8600.20</td>\n",
       "      <td>8689.40</td>\n",
       "      <td>8590.15</td>\n",
       "      <td>162.78M</td>\n",
       "      <td>1.54%</td>\n",
       "      <td>0.003242</td>\n",
       "    </tr>\n",
       "  </tbody>\n",
       "</table>\n",
       "</div>"
      ],
      "text/plain": [
       "        Date    Price     Open     High      Low   Volume    Chg%  LogReturn\n",
       "0  01-Aug-16  8636.55  8654.30  8711.30  8590.50  194.19M  -0.02%  -0.001582\n",
       "1  02-Aug-16  8622.90  8647.45  8687.20  8611.40  174.56M  -0.16%  -0.009093\n",
       "2  03-Aug-16  8544.85  8635.20  8635.45  8529.60  168.03M  -0.91%   0.000731\n",
       "3  04-Aug-16  8551.10  8599.95  8601.40  8518.15  169.78M   0.07%   0.015324\n",
       "4  05-Aug-16  8683.15  8600.20  8689.40  8590.15  162.78M   1.54%   0.003242"
      ]
     },
     "execution_count": 4,
     "metadata": {},
     "output_type": "execute_result"
    }
   ],
   "source": [
    "# Calculating log return of index\n",
    "data[\"LogReturn\"] = np.log(data[\"Price\"]).shift(-1) - np.log(data[\"Price\"])\n",
    "data.dropna(inplace=True)\n",
    "print(\"Number of rows: {}\".format(data.shape[0]))\n",
    "data.head(5)"
   ]
  },
  {
   "cell_type": "markdown",
   "metadata": {},
   "source": [
    "## Distribution of Index log-returns"
   ]
  },
  {
   "cell_type": "code",
   "execution_count": 5,
   "metadata": {
    "scrolled": false
   },
   "outputs": [
    {
     "data": {
      "image/png": "[encoded data removed]",
      "text/plain": [
       "<Figure size 576x360 with 1 Axes>"
      ]
     },
     "metadata": {
      "needs_background": "light"
     },
     "output_type": "display_data"
    }
   ],
   "source": [
    "mu = data[\"LogReturn\"].mean()\n",
    "sigma = data[\"LogReturn\"].std(ddof=1)\n",
    "\n",
    "density = pd.DataFrame()\n",
    "density[\"x\"] = np.arange(data[\"LogReturn\"].min()-0.01, data[\"LogReturn\"].max()+0.01, 0.001)\n",
    "density[\"pdf\"] = norm.pdf(density[\"x\"], mu, sigma)\n",
    "\n",
    "data[\"LogReturn\"].hist(bins=50, figsize=(8, 5))\n",
    "plt.plot(density[\"x\"], density[\"pdf\"], color=\"red\")\n",
    "plt.title(\"Histogram of log returns of market\")\n",
    "plt.show()"
   ]
  },
  {
   "cell_type": "markdown",
   "metadata": {},
   "source": [
    "## Checks for normality of distribution"
   ]
  },
  {
   "cell_type": "code",
   "execution_count": 6,
   "metadata": {
    "scrolled": false
   },
   "outputs": [
    {
     "data": {
      "image/png": "[encoded data removed]",
      "text/plain": [
       "<Figure size 432x288 with 1 Axes>"
      ]
     },
     "metadata": {
      "needs_background": "light"
     },
     "output_type": "display_data"
    }
   ],
   "source": [
    "# QQ plot\n",
    "qqplot(data[\"LogReturn\"], loc=mu, scale=sigma, line=\"45\")\n",
    "plt.show()"
   ]
  },
  {
   "cell_type": "code",
   "execution_count": 7,
   "metadata": {
    "scrolled": true
   },
   "outputs": [
    {
     "name": "stdout",
     "output_type": "stream",
     "text": [
      "Statistics = 0.969, p = 0.000\n",
      "Sample does not look normally distributed (reject H0)\n"
     ]
    }
   ],
   "source": [
    "# Shapiro Wilk normality test\n",
    "# H0: Distribution is normal\n",
    "\n",
    "stat, p = shapiro(data[\"LogReturn\"])\n",
    "print(\"Statistics = {:.3f}, p = {:.3f}\".format(stat, p))\n",
    "alpha = 0.05\n",
    "if p > alpha:\n",
    "    print(\"Sample looks normal distributed (do not reject H0)\")\n",
    "else:\n",
    "    print(\"Sample does not look normally distributed (reject H0)\")"
   ]
  },
  {
   "cell_type": "code",
   "execution_count": 8,
   "metadata": {},
   "outputs": [
    {
     "name": "stdout",
     "output_type": "stream",
     "text": [
      "p = 0.00045243775826893975\n",
      "Sample does not look normally distributed (reject H0)\n"
     ]
    }
   ],
   "source": [
    "# https://docs.scipy.org/doc/scipy/reference/generated/scipy.stats.normaltest.html\n",
    "# Normality test based on D’Agostino and Pearson’s test\n",
    "\n",
    "k2, p = normaltest(data[\"LogReturn\"])\n",
    "print(\"p = {}\".format(p))\n",
    "alpha = 0.05\n",
    "if p > alpha:\n",
    "    print(\"Sample looks normal distributed (do not reject H0)\")\n",
    "else:\n",
    "    print(\"Sample does not look normally distributed (reject H0)\")"
   ]
  },
  {
   "cell_type": "markdown",
   "metadata": {},
   "source": [
    "**The distribution does not seem to be distributed normally. Hence, I have now tried some transformation to try to fit into normal distribution**"
   ]
  },
  {
   "cell_type": "markdown",
   "metadata": {},
   "source": [
    "## Data transformation to fit normal distribution"
   ]
  },
  {
   "cell_type": "markdown",
   "metadata": {},
   "source": [
    "**Yeo Johnson** transformation ([https://docs.scipy.org/doc/scipy/reference/generated/scipy.stats.yeojohnson.html](https://docs.scipy.org/doc/scipy/reference/generated/scipy.stats.yeojohnson.html))"
   ]
  },
  {
   "cell_type": "code",
   "execution_count": 9,
   "metadata": {
    "scrolled": true
   },
   "outputs": [],
   "source": [
    "# Yeo Johnson transformation\n",
    "xt, lmbda_opt = yeojohnson(data[\"LogReturn\"])"
   ]
  },
  {
   "cell_type": "code",
   "execution_count": 10,
   "metadata": {
    "scrolled": false
   },
   "outputs": [
    {
     "data": {
      "text/html": [
       "<div>\n",
       "<style scoped>\n",
       "    .dataframe tbody tr th:only-of-type {\n",
       "        vertical-align: middle;\n",
       "    }\n",
       "\n",
       "    .dataframe tbody tr th {\n",
       "        vertical-align: top;\n",
       "    }\n",
       "\n",
       "    .dataframe thead th {\n",
       "        text-align: right;\n",
       "    }\n",
       "</style>\n",
       "<table border=\"1\" class=\"dataframe\">\n",
       "  <thead>\n",
       "    <tr style=\"text-align: right;\">\n",
       "      <th></th>\n",
       "      <th>LogReturn</th>\n",
       "      <th>After transformation</th>\n",
       "    </tr>\n",
       "  </thead>\n",
       "  <tbody>\n",
       "    <tr>\n",
       "      <th>0</th>\n",
       "      <td>-0.001582</td>\n",
       "      <td>-0.001571</td>\n",
       "    </tr>\n",
       "    <tr>\n",
       "      <th>1</th>\n",
       "      <td>-0.009093</td>\n",
       "      <td>-0.008747</td>\n",
       "    </tr>\n",
       "    <tr>\n",
       "      <th>2</th>\n",
       "      <td>0.000731</td>\n",
       "      <td>0.000733</td>\n",
       "    </tr>\n",
       "    <tr>\n",
       "      <th>3</th>\n",
       "      <td>0.015324</td>\n",
       "      <td>0.016377</td>\n",
       "    </tr>\n",
       "    <tr>\n",
       "      <th>4</th>\n",
       "      <td>0.003242</td>\n",
       "      <td>0.003288</td>\n",
       "    </tr>\n",
       "  </tbody>\n",
       "</table>\n",
       "</div>"
      ],
      "text/plain": [
       "   LogReturn  After transformation\n",
       "0  -0.001582             -0.001571\n",
       "1  -0.009093             -0.008747\n",
       "2   0.000731              0.000733\n",
       "3   0.015324              0.016377\n",
       "4   0.003242              0.003288"
      ]
     },
     "execution_count": 10,
     "metadata": {},
     "output_type": "execute_result"
    }
   ],
   "source": [
    "# Difference between original log returns and transformed values\n",
    "temp = pd.DataFrame(data[\"LogReturn\"])\n",
    "temp[\"After transformation\"] = pd.Series(xt)\n",
    "temp.head()"
   ]
  },
  {
   "cell_type": "code",
   "execution_count": 11,
   "metadata": {
    "scrolled": true
   },
   "outputs": [
    {
     "data": {
      "image/png": "[encoded data removed]",
      "text/plain": [
       "<Figure size 576x360 with 1 Axes>"
      ]
     },
     "metadata": {
      "needs_background": "light"
     },
     "output_type": "display_data"
    }
   ],
   "source": [
    "mu_n = xt.mean()\n",
    "sigma_n = xt.std(ddof=1)\n",
    "\n",
    "density = pd.DataFrame()\n",
    "density[\"x\"] = np.arange(xt.min()-0.01, xt.max()+0.01, 0.001)\n",
    "density[\"pdf\"] = norm.pdf(density[\"x\"], mu_n, sigma_n)\n",
    "\n",
    "pd.Series(xt).hist(bins=50, figsize=(8, 5))\n",
    "plt.plot(density[\"x\"], density[\"pdf\"], color=\"red\")\n",
    "plt.title(\"Histogram of Yeo Johnson transformed log returns of market\")\n",
    "plt.show()"
   ]
  },
  {
   "cell_type": "markdown",
   "metadata": {},
   "source": [
    "## Check for normality after transformation"
   ]
  },
  {
   "cell_type": "code",
   "execution_count": 12,
   "metadata": {
    "scrolled": false
   },
   "outputs": [
    {
     "data": {
      "image/png": "[encoded data removed]",
      "text/plain": [
       "<Figure size 432x288 with 1 Axes>"
      ]
     },
     "metadata": {
      "needs_background": "light"
     },
     "output_type": "display_data"
    }
   ],
   "source": [
    "# QQ plot after transformation\n",
    "qqplot(xt, loc=mu_n, scale=sigma_n, line=\"45\")\n",
    "plt.show()"
   ]
  },
  {
   "cell_type": "code",
   "execution_count": 13,
   "metadata": {
    "scrolled": true
   },
   "outputs": [
    {
     "name": "stdout",
     "output_type": "stream",
     "text": [
      "Statistics = 0.972, p = 0.000\n",
      "Sample does not look normally distributed (reject H0)\n"
     ]
    }
   ],
   "source": [
    "# Shapiro Wilk test\n",
    "# H0: Distribution is normal\n",
    "\n",
    "stat, p = shapiro(xt)\n",
    "print(\"Statistics = {:.3f}, p = {:.3f}\".format(stat, p))\n",
    "alpha = 0.05\n",
    "if p > alpha:\n",
    "    print(\"Sample looks normal distributed (do not reject H0)\")\n",
    "else:\n",
    "    print(\"Sample does not look normally distributed (reject H0)\")"
   ]
  },
  {
   "cell_type": "code",
   "execution_count": 14,
   "metadata": {},
   "outputs": [
    {
     "name": "stdout",
     "output_type": "stream",
     "text": [
      "p = 0.00925613981380398\n",
      "Sample does not look normally distributed (reject H0)\n"
     ]
    }
   ],
   "source": [
    "# https://docs.scipy.org/doc/scipy/reference/generated/scipy.stats.normaltest.html\n",
    "# Normality test based on D’Agostino and Pearson’s test\n",
    "\n",
    "k2, p = normaltest(xt)\n",
    "print(\"p = {}\".format(p))\n",
    "alpha = 0.05\n",
    "if p > alpha:\n",
    "    print(\"Sample looks normal distributed (do not reject H0)\")\n",
    "else:\n",
    "    print(\"Sample does not look normally distributed (reject H0)\")"
   ]
  },
  {
   "cell_type": "markdown",
   "metadata": {},
   "source": [
    "**After the transformation, the data -----------------------------**"
   ]
  },
  {
   "cell_type": "markdown",
   "metadata": {},
   "source": [
    "## Probabilities of losses, VaR, SD"
   ]
  },
  {
   "cell_type": "code",
   "execution_count": 15,
   "metadata": {
    "scrolled": false
   },
   "outputs": [
    {
     "name": "stdout",
     "output_type": "stream",
     "text": [
      "The Probability is 0.00000\n"
     ]
    }
   ],
   "source": [
    "# Probability that the index will drop over 5% in a day\n",
    "prob_return1 = norm.cdf(-0.05, mu_n, sigma_n)\n",
    "print(\"The Probability is {:.5f}\".format(prob_return1))"
   ]
  },
  {
   "cell_type": "code",
   "execution_count": 16,
   "metadata": {},
   "outputs": [
    {
     "name": "stdout",
     "output_type": "stream",
     "text": [
      "The Probability is 0.00000\n"
     ]
    }
   ],
   "source": [
    "# Probability that the index will drop over 10% in a day\n",
    "prob_return1 = norm.cdf(-0.10, mu_n, sigma_n)\n",
    "print(\"The Probability is {:.5f}\".format(prob_return1))"
   ]
  },
  {
   "cell_type": "code",
   "execution_count": 17,
   "metadata": {},
   "outputs": [
    {
     "name": "stdout",
     "output_type": "stream",
     "text": [
      "The probability of dropping over 40% in 248 days is 0.00000\n"
     ]
    }
   ],
   "source": [
    "# Drop over 40% in 248 days\n",
    "mu248 = 248*mu_n\n",
    "sigma248 = (248**0.5) * sigma_n\n",
    "print(\"The probability of dropping over 40% in 248 days is {:.5f}\".format(norm.cdf(-0.4, mu248, sigma248)))"
   ]
  },
  {
   "cell_type": "code",
   "execution_count": 18,
   "metadata": {},
   "outputs": [
    {
     "name": "stdout",
     "output_type": "stream",
     "text": [
      "The probability of dropping over 20% in 248 days is 0.00010\n"
     ]
    }
   ],
   "source": [
    "# Drop over 20% in 248 days\n",
    "mu248 = 248*mu_n\n",
    "sigma248 = (248**0.5) * sigma_n\n",
    "print(\"The probability of dropping over 20% in 248 days is {:.5f}\".format(norm.cdf(-0.2, mu248, sigma248)))"
   ]
  },
  {
   "cell_type": "code",
   "execution_count": 19,
   "metadata": {
    "scrolled": true
   },
   "outputs": [
    {
     "name": "stdout",
     "output_type": "stream",
     "text": [
      "1-day 5% Value at Risk (VaR) (using normal distribution): -1.0542%\n",
      "1-day 5% Value at Risk (VaR) (using data): -1.0249%\n"
     ]
    }
   ],
   "source": [
    "# 1-day 5% Value at Risk (VaR)\n",
    "print(\"1-day 5% Value at Risk (VaR) (using normal distribution): {:.4f}%\".format(norm.ppf(0.05, mu_n, sigma_n)*100))\n",
    "\n",
    "logr = data[\"LogReturn\"].sort_values(ascending=True, ignore_index=True)\n",
    "print(\"1-day 5% Value at Risk (VaR) (using data): {:.4f}%\".format(logr.iloc[round(logr.size*0.05)]*100))"
   ]
  },
  {
   "cell_type": "code",
   "execution_count": 20,
   "metadata": {
    "scrolled": true
   },
   "outputs": [
    {
     "name": "stdout",
     "output_type": "stream",
     "text": [
      "SD of original index return: 0.6905%\n",
      "SD of transformed index return: 0.6914%\n"
     ]
    }
   ],
   "source": [
    "print(\"SD of original index return: {:.4f}%\".format(data[\"LogReturn\"].std(ddof=1)*100))\n",
    "print(\"SD of transformed index return: {:.4f}%\".format(xt.std(ddof=1)*100))"
   ]
  }
 ],
 "metadata": {
  "kernelspec": {
   "display_name": "Python 3",
   "language": "python",
   "name": "python3"
  },
  "language_info": {
   "codemirror_mode": {
    "name": "ipython",
    "version": 3
   },
   "file_extension": ".py",
   "mimetype": "text/x-python",
   "name": "python",
   "nbconvert_exporter": "python",
   "pygments_lexer": "ipython3",
   "version": "3.7.9"
  }
 },
 "nbformat": 4,
 "nbformat_minor": 4
}
